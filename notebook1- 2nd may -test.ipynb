{
 "cells": [
  {
   "cell_type": "code",
   "execution_count": 1,
   "id": "e49d3338",
   "metadata": {
    "scrolled": true
   },
   "outputs": [
    {
     "name": "stdout",
     "output_type": "stream",
     "text": [
      "Requirement already satisfied: opendatasets in c:\\users\\spande32\\anaconda3\\lib\\site-packages (0.1.22)\n",
      "Requirement already satisfied: tqdm in c:\\users\\spande32\\anaconda3\\lib\\site-packages (from opendatasets) (4.62.3)\n",
      "Requirement already satisfied: click in c:\\users\\spande32\\anaconda3\\lib\\site-packages (from opendatasets) (8.0.3)\n",
      "Requirement already satisfied: kaggle in c:\\users\\spande32\\anaconda3\\lib\\site-packages (from opendatasets) (1.5.12)\n",
      "Requirement already satisfied: colorama in c:\\users\\spande32\\anaconda3\\lib\\site-packages (from click->opendatasets) (0.4.4)\n",
      "Requirement already satisfied: urllib3 in c:\\users\\spande32\\anaconda3\\lib\\site-packages (from kaggle->opendatasets) (1.26.7)\n",
      "Requirement already satisfied: requests in c:\\users\\spande32\\anaconda3\\lib\\site-packages (from kaggle->opendatasets) (2.26.0)\n",
      "Requirement already satisfied: certifi in c:\\users\\spande32\\anaconda3\\lib\\site-packages (from kaggle->opendatasets) (2021.10.8)\n",
      "Requirement already satisfied: six>=1.10 in c:\\users\\spande32\\anaconda3\\lib\\site-packages (from kaggle->opendatasets) (1.16.0)\n",
      "Requirement already satisfied: python-dateutil in c:\\users\\spande32\\anaconda3\\lib\\site-packages (from kaggle->opendatasets) (2.8.2)\n",
      "Requirement already satisfied: python-slugify in c:\\users\\spande32\\anaconda3\\lib\\site-packages (from kaggle->opendatasets) (5.0.2)\n",
      "Requirement already satisfied: text-unidecode>=1.3 in c:\\users\\spande32\\anaconda3\\lib\\site-packages (from python-slugify->kaggle->opendatasets) (1.3)\n",
      "Requirement already satisfied: charset-normalizer~=2.0.0 in c:\\users\\spande32\\anaconda3\\lib\\site-packages (from requests->kaggle->opendatasets) (2.0.4)\n",
      "Requirement already satisfied: idna<4,>=2.5 in c:\\users\\spande32\\anaconda3\\lib\\site-packages (from requests->kaggle->opendatasets) (3.2)\n"
     ]
    }
   ],
   "source": [
    "!pip install opendatasets"
   ]
  },
  {
   "cell_type": "code",
   "execution_count": 2,
   "id": "933d68ef",
   "metadata": {},
   "outputs": [],
   "source": [
    "import opendatasets as od"
   ]
  },
  {
   "cell_type": "code",
   "execution_count": 3,
   "id": "419b087c",
   "metadata": {
    "scrolled": true
   },
   "outputs": [
    {
     "name": "stdout",
     "output_type": "stream",
     "text": [
      "Skipping, found downloaded files in \".\\house-prices-advanced-regression-techniques\" (use force=True to force download)\n"
     ]
    }
   ],
   "source": [
    "od.download(\"https://www.kaggle.com/competitions/house-prices-advanced-regression-techniques\")"
   ]
  },
  {
   "cell_type": "code",
   "execution_count": 4,
   "id": "ef3e727c",
   "metadata": {},
   "outputs": [],
   "source": [
    "import pandas as pd\n",
    "import numpy as np\n",
    "import seaborn as sns\n",
    "import matplotlib.pyplot as plt\n",
    "import warnings\n",
    "\n",
    "warnings.filterwarnings('ignore')"
   ]
  },
  {
   "cell_type": "code",
   "execution_count": 5,
   "id": "650fc281",
   "metadata": {},
   "outputs": [],
   "source": [
    "data=''\n",
    "def reset_data():\n",
    "    global data\n",
    "    data=pd.read_csv('house-prices-advanced-regression-techniques/test.csv')\n",
    "reset_data()"
   ]
  },
  {
   "cell_type": "code",
   "execution_count": 6,
   "id": "9d88d1ac",
   "metadata": {},
   "outputs": [
    {
     "data": {
      "text/html": [
       "<div>\n",
       "<style scoped>\n",
       "    .dataframe tbody tr th:only-of-type {\n",
       "        vertical-align: middle;\n",
       "    }\n",
       "\n",
       "    .dataframe tbody tr th {\n",
       "        vertical-align: top;\n",
       "    }\n",
       "\n",
       "    .dataframe thead th {\n",
       "        text-align: right;\n",
       "    }\n",
       "</style>\n",
       "<table border=\"1\" class=\"dataframe\">\n",
       "  <thead>\n",
       "    <tr style=\"text-align: right;\">\n",
       "      <th></th>\n",
       "      <th>Id</th>\n",
       "      <th>MSSubClass</th>\n",
       "      <th>MSZoning</th>\n",
       "      <th>LotFrontage</th>\n",
       "      <th>LotArea</th>\n",
       "      <th>Street</th>\n",
       "      <th>Alley</th>\n",
       "      <th>LotShape</th>\n",
       "      <th>LandContour</th>\n",
       "      <th>Utilities</th>\n",
       "      <th>...</th>\n",
       "      <th>ScreenPorch</th>\n",
       "      <th>PoolArea</th>\n",
       "      <th>PoolQC</th>\n",
       "      <th>Fence</th>\n",
       "      <th>MiscFeature</th>\n",
       "      <th>MiscVal</th>\n",
       "      <th>MoSold</th>\n",
       "      <th>YrSold</th>\n",
       "      <th>SaleType</th>\n",
       "      <th>SaleCondition</th>\n",
       "    </tr>\n",
       "  </thead>\n",
       "  <tbody>\n",
       "    <tr>\n",
       "      <th>0</th>\n",
       "      <td>1461</td>\n",
       "      <td>20</td>\n",
       "      <td>RH</td>\n",
       "      <td>80.0</td>\n",
       "      <td>11622</td>\n",
       "      <td>Pave</td>\n",
       "      <td>NaN</td>\n",
       "      <td>Reg</td>\n",
       "      <td>Lvl</td>\n",
       "      <td>AllPub</td>\n",
       "      <td>...</td>\n",
       "      <td>120</td>\n",
       "      <td>0</td>\n",
       "      <td>NaN</td>\n",
       "      <td>MnPrv</td>\n",
       "      <td>NaN</td>\n",
       "      <td>0</td>\n",
       "      <td>6</td>\n",
       "      <td>2010</td>\n",
       "      <td>WD</td>\n",
       "      <td>Normal</td>\n",
       "    </tr>\n",
       "    <tr>\n",
       "      <th>1</th>\n",
       "      <td>1462</td>\n",
       "      <td>20</td>\n",
       "      <td>RL</td>\n",
       "      <td>81.0</td>\n",
       "      <td>14267</td>\n",
       "      <td>Pave</td>\n",
       "      <td>NaN</td>\n",
       "      <td>IR1</td>\n",
       "      <td>Lvl</td>\n",
       "      <td>AllPub</td>\n",
       "      <td>...</td>\n",
       "      <td>0</td>\n",
       "      <td>0</td>\n",
       "      <td>NaN</td>\n",
       "      <td>NaN</td>\n",
       "      <td>Gar2</td>\n",
       "      <td>12500</td>\n",
       "      <td>6</td>\n",
       "      <td>2010</td>\n",
       "      <td>WD</td>\n",
       "      <td>Normal</td>\n",
       "    </tr>\n",
       "    <tr>\n",
       "      <th>2</th>\n",
       "      <td>1463</td>\n",
       "      <td>60</td>\n",
       "      <td>RL</td>\n",
       "      <td>74.0</td>\n",
       "      <td>13830</td>\n",
       "      <td>Pave</td>\n",
       "      <td>NaN</td>\n",
       "      <td>IR1</td>\n",
       "      <td>Lvl</td>\n",
       "      <td>AllPub</td>\n",
       "      <td>...</td>\n",
       "      <td>0</td>\n",
       "      <td>0</td>\n",
       "      <td>NaN</td>\n",
       "      <td>MnPrv</td>\n",
       "      <td>NaN</td>\n",
       "      <td>0</td>\n",
       "      <td>3</td>\n",
       "      <td>2010</td>\n",
       "      <td>WD</td>\n",
       "      <td>Normal</td>\n",
       "    </tr>\n",
       "    <tr>\n",
       "      <th>3</th>\n",
       "      <td>1464</td>\n",
       "      <td>60</td>\n",
       "      <td>RL</td>\n",
       "      <td>78.0</td>\n",
       "      <td>9978</td>\n",
       "      <td>Pave</td>\n",
       "      <td>NaN</td>\n",
       "      <td>IR1</td>\n",
       "      <td>Lvl</td>\n",
       "      <td>AllPub</td>\n",
       "      <td>...</td>\n",
       "      <td>0</td>\n",
       "      <td>0</td>\n",
       "      <td>NaN</td>\n",
       "      <td>NaN</td>\n",
       "      <td>NaN</td>\n",
       "      <td>0</td>\n",
       "      <td>6</td>\n",
       "      <td>2010</td>\n",
       "      <td>WD</td>\n",
       "      <td>Normal</td>\n",
       "    </tr>\n",
       "    <tr>\n",
       "      <th>4</th>\n",
       "      <td>1465</td>\n",
       "      <td>120</td>\n",
       "      <td>RL</td>\n",
       "      <td>43.0</td>\n",
       "      <td>5005</td>\n",
       "      <td>Pave</td>\n",
       "      <td>NaN</td>\n",
       "      <td>IR1</td>\n",
       "      <td>HLS</td>\n",
       "      <td>AllPub</td>\n",
       "      <td>...</td>\n",
       "      <td>144</td>\n",
       "      <td>0</td>\n",
       "      <td>NaN</td>\n",
       "      <td>NaN</td>\n",
       "      <td>NaN</td>\n",
       "      <td>0</td>\n",
       "      <td>1</td>\n",
       "      <td>2010</td>\n",
       "      <td>WD</td>\n",
       "      <td>Normal</td>\n",
       "    </tr>\n",
       "  </tbody>\n",
       "</table>\n",
       "<p>5 rows × 80 columns</p>\n",
       "</div>"
      ],
      "text/plain": [
       "     Id  MSSubClass MSZoning  LotFrontage  LotArea Street Alley LotShape  \\\n",
       "0  1461          20       RH         80.0    11622   Pave   NaN      Reg   \n",
       "1  1462          20       RL         81.0    14267   Pave   NaN      IR1   \n",
       "2  1463          60       RL         74.0    13830   Pave   NaN      IR1   \n",
       "3  1464          60       RL         78.0     9978   Pave   NaN      IR1   \n",
       "4  1465         120       RL         43.0     5005   Pave   NaN      IR1   \n",
       "\n",
       "  LandContour Utilities  ... ScreenPorch PoolArea PoolQC  Fence MiscFeature  \\\n",
       "0         Lvl    AllPub  ...         120        0    NaN  MnPrv         NaN   \n",
       "1         Lvl    AllPub  ...           0        0    NaN    NaN        Gar2   \n",
       "2         Lvl    AllPub  ...           0        0    NaN  MnPrv         NaN   \n",
       "3         Lvl    AllPub  ...           0        0    NaN    NaN         NaN   \n",
       "4         HLS    AllPub  ...         144        0    NaN    NaN         NaN   \n",
       "\n",
       "  MiscVal MoSold  YrSold  SaleType  SaleCondition  \n",
       "0       0      6    2010        WD         Normal  \n",
       "1   12500      6    2010        WD         Normal  \n",
       "2       0      3    2010        WD         Normal  \n",
       "3       0      6    2010        WD         Normal  \n",
       "4       0      1    2010        WD         Normal  \n",
       "\n",
       "[5 rows x 80 columns]"
      ]
     },
     "execution_count": 6,
     "metadata": {},
     "output_type": "execute_result"
    }
   ],
   "source": [
    "data.head()"
   ]
  },
  {
   "cell_type": "code",
   "execution_count": 9,
   "id": "b742462e",
   "metadata": {},
   "outputs": [],
   "source": [
    "data.drop('Id',axis=1,inplace=True)"
   ]
  },
  {
   "cell_type": "code",
   "execution_count": 10,
   "id": "3df0038a",
   "metadata": {},
   "outputs": [],
   "source": [
    "numerical=data.select_dtypes(include='number').columns.tolist()\n",
    "categorical=data.select_dtypes(exclude='number').columns.tolist()"
   ]
  },
  {
   "cell_type": "code",
   "execution_count": 11,
   "id": "3cd1df46",
   "metadata": {},
   "outputs": [
    {
     "data": {
      "text/plain": [
       "['MSSubClass',\n",
       " 'LotFrontage',\n",
       " 'LotArea',\n",
       " 'OverallQual',\n",
       " 'OverallCond',\n",
       " 'YearBuilt',\n",
       " 'YearRemodAdd',\n",
       " 'MasVnrArea',\n",
       " 'BsmtFinSF1',\n",
       " 'BsmtFinSF2',\n",
       " 'BsmtUnfSF',\n",
       " 'TotalBsmtSF',\n",
       " '1stFlrSF',\n",
       " '2ndFlrSF',\n",
       " 'LowQualFinSF',\n",
       " 'GrLivArea',\n",
       " 'BsmtFullBath',\n",
       " 'BsmtHalfBath',\n",
       " 'FullBath',\n",
       " 'HalfBath',\n",
       " 'BedroomAbvGr',\n",
       " 'KitchenAbvGr',\n",
       " 'TotRmsAbvGrd',\n",
       " 'Fireplaces',\n",
       " 'GarageYrBlt',\n",
       " 'GarageCars',\n",
       " 'GarageArea',\n",
       " 'WoodDeckSF',\n",
       " 'OpenPorchSF',\n",
       " 'EnclosedPorch',\n",
       " '3SsnPorch',\n",
       " 'ScreenPorch',\n",
       " 'PoolArea',\n",
       " 'MiscVal',\n",
       " 'MoSold',\n",
       " 'YrSold']"
      ]
     },
     "execution_count": 11,
     "metadata": {},
     "output_type": "execute_result"
    }
   ],
   "source": [
    "numerical"
   ]
  },
  {
   "cell_type": "code",
   "execution_count": 12,
   "id": "a47d9919",
   "metadata": {},
   "outputs": [],
   "source": [
    "newCol=[]"
   ]
  },
  {
   "cell_type": "code",
   "execution_count": 13,
   "id": "080432c7",
   "metadata": {},
   "outputs": [],
   "source": [
    "def elaborate(name):\n",
    "    print(data[name].describe())\n",
    "    print('\\n-------------\\n[MISSING VALUES]')\n",
    "    print(f'{np.round(data[name].isna().sum()*100/data.shape[0],2)}%')\n",
    "colN=''\n",
    "def getName():\n",
    "    for col in numerical:\n",
    "        yield col\n",
    "gen=getName()\n",
    "\n",
    "def updateName():\n",
    "    global colN,gen\n",
    "    colN=next(gen)\n",
    "    print(f\"---------[[[{colN}]]]--------\")\n",
    "    elaborate(colN)"
   ]
  },
  {
   "cell_type": "code",
   "execution_count": 14,
   "id": "535adafb",
   "metadata": {},
   "outputs": [
    {
     "name": "stdout",
     "output_type": "stream",
     "text": [
      "---------[[[MSSubClass]]]--------\n",
      "count    1459.000000\n",
      "mean       57.378341\n",
      "std        42.746880\n",
      "min        20.000000\n",
      "25%        20.000000\n",
      "50%        50.000000\n",
      "75%        70.000000\n",
      "max       190.000000\n",
      "Name: MSSubClass, dtype: float64\n",
      "\n",
      "-------------\n",
      "[MISSING VALUES]\n",
      "0.0%\n"
     ]
    }
   ],
   "source": [
    "updateName()"
   ]
  },
  {
   "cell_type": "code",
   "execution_count": 15,
   "id": "6b427464",
   "metadata": {},
   "outputs": [
    {
     "name": "stdout",
     "output_type": "stream",
     "text": [
      "---------[[[LotFrontage]]]--------\n",
      "count    1232.000000\n",
      "mean       68.580357\n",
      "std        22.376841\n",
      "min        21.000000\n",
      "25%        58.000000\n",
      "50%        67.000000\n",
      "75%        80.000000\n",
      "max       200.000000\n",
      "Name: LotFrontage, dtype: float64\n",
      "\n",
      "-------------\n",
      "[MISSING VALUES]\n",
      "15.56%\n"
     ]
    }
   ],
   "source": [
    "updateName()"
   ]
  },
  {
   "cell_type": "code",
   "execution_count": 16,
   "id": "6b938f96",
   "metadata": {},
   "outputs": [],
   "source": [
    "data[colN].fillna(data[colN].median(),inplace=True)"
   ]
  },
  {
   "cell_type": "code",
   "execution_count": 17,
   "id": "f9789a78",
   "metadata": {},
   "outputs": [
    {
     "name": "stdout",
     "output_type": "stream",
     "text": [
      "---------[[[LotArea]]]--------\n",
      "count     1459.000000\n",
      "mean      9819.161069\n",
      "std       4955.517327\n",
      "min       1470.000000\n",
      "25%       7391.000000\n",
      "50%       9399.000000\n",
      "75%      11517.500000\n",
      "max      56600.000000\n",
      "Name: LotArea, dtype: float64\n",
      "\n",
      "-------------\n",
      "[MISSING VALUES]\n",
      "0.0%\n"
     ]
    }
   ],
   "source": [
    "updateName()"
   ]
  },
  {
   "cell_type": "code",
   "execution_count": 18,
   "id": "e36d43e3",
   "metadata": {},
   "outputs": [
    {
     "name": "stdout",
     "output_type": "stream",
     "text": [
      "---------[[[OverallQual]]]--------\n",
      "count    1459.000000\n",
      "mean        6.078821\n",
      "std         1.436812\n",
      "min         1.000000\n",
      "25%         5.000000\n",
      "50%         6.000000\n",
      "75%         7.000000\n",
      "max        10.000000\n",
      "Name: OverallQual, dtype: float64\n",
      "\n",
      "-------------\n",
      "[MISSING VALUES]\n",
      "0.0%\n"
     ]
    }
   ],
   "source": [
    "updateName()"
   ]
  },
  {
   "cell_type": "code",
   "execution_count": 19,
   "id": "65f9ec2d",
   "metadata": {},
   "outputs": [
    {
     "name": "stdout",
     "output_type": "stream",
     "text": [
      "---------[[[OverallCond]]]--------\n",
      "count    1459.000000\n",
      "mean        5.553804\n",
      "std         1.113740\n",
      "min         1.000000\n",
      "25%         5.000000\n",
      "50%         5.000000\n",
      "75%         6.000000\n",
      "max         9.000000\n",
      "Name: OverallCond, dtype: float64\n",
      "\n",
      "-------------\n",
      "[MISSING VALUES]\n",
      "0.0%\n"
     ]
    }
   ],
   "source": [
    "updateName()"
   ]
  },
  {
   "cell_type": "code",
   "execution_count": 20,
   "id": "8cdb6d59",
   "metadata": {},
   "outputs": [
    {
     "name": "stdout",
     "output_type": "stream",
     "text": [
      "---------[[[YearBuilt]]]--------\n",
      "count    1459.000000\n",
      "mean     1971.357779\n",
      "std        30.390071\n",
      "min      1879.000000\n",
      "25%      1953.000000\n",
      "50%      1973.000000\n",
      "75%      2001.000000\n",
      "max      2010.000000\n",
      "Name: YearBuilt, dtype: float64\n",
      "\n",
      "-------------\n",
      "[MISSING VALUES]\n",
      "0.0%\n"
     ]
    }
   ],
   "source": [
    "updateName()"
   ]
  },
  {
   "cell_type": "code",
   "execution_count": 21,
   "id": "b4d9d23c",
   "metadata": {},
   "outputs": [
    {
     "name": "stdout",
     "output_type": "stream",
     "text": [
      "---------[[[YearRemodAdd]]]--------\n",
      "count    1459.000000\n",
      "mean     1983.662783\n",
      "std        21.130467\n",
      "min      1950.000000\n",
      "25%      1963.000000\n",
      "50%      1992.000000\n",
      "75%      2004.000000\n",
      "max      2010.000000\n",
      "Name: YearRemodAdd, dtype: float64\n",
      "\n",
      "-------------\n",
      "[MISSING VALUES]\n",
      "0.0%\n"
     ]
    }
   ],
   "source": [
    "updateName()"
   ]
  },
  {
   "cell_type": "code",
   "execution_count": 22,
   "id": "e2ca2ca4",
   "metadata": {},
   "outputs": [
    {
     "name": "stdout",
     "output_type": "stream",
     "text": [
      "---------[[[MasVnrArea]]]--------\n",
      "count    1444.000000\n",
      "mean      100.709141\n",
      "std       177.625900\n",
      "min         0.000000\n",
      "25%         0.000000\n",
      "50%         0.000000\n",
      "75%       164.000000\n",
      "max      1290.000000\n",
      "Name: MasVnrArea, dtype: float64\n",
      "\n",
      "-------------\n",
      "[MISSING VALUES]\n",
      "1.03%\n"
     ]
    }
   ],
   "source": [
    "updateName()"
   ]
  },
  {
   "cell_type": "code",
   "execution_count": 23,
   "id": "3e430626",
   "metadata": {},
   "outputs": [],
   "source": [
    "data[colN].fillna(data[colN].median(),inplace=True)"
   ]
  },
  {
   "cell_type": "code",
   "execution_count": 24,
   "id": "63d4dcf8",
   "metadata": {},
   "outputs": [],
   "source": [
    "conditions=[\n",
    "    data[colN]==0,\n",
    "    (data[colN]>0)&(data[colN]<=200),\n",
    "    (data[colN]>200)&(data[colN]<=400),\n",
    "    (data[colN]>400)&(data[colN]<=600),\n",
    "    (data[colN]>600)&(data[colN]<=800),\n",
    "    (data[colN]>800)&(data[colN]<=1000),\n",
    "    (data[colN]>1000)&(data[colN]<=1200),\n",
    "    (data[colN]>1200)&(data[colN]<=1400),\n",
    "    (data[colN]>1400)&(data[colN]<=1600)\n",
    "]\n",
    "\n",
    "choice=[\n",
    "    0,\n",
    "    1,\n",
    "    2,\n",
    "    3,\n",
    "    4,\n",
    "    5,\n",
    "    6,\n",
    "    7,\n",
    "    8\n",
    "]"
   ]
  },
  {
   "cell_type": "code",
   "execution_count": 25,
   "id": "17c89fef",
   "metadata": {},
   "outputs": [],
   "source": [
    "data[colN]=np.select(conditions,choice,default=0)"
   ]
  },
  {
   "cell_type": "code",
   "execution_count": 26,
   "id": "cf0a06bb",
   "metadata": {},
   "outputs": [
    {
     "name": "stdout",
     "output_type": "stream",
     "text": [
      "count    1459.000000\n",
      "mean        0.694311\n",
      "std         1.082870\n",
      "min         0.000000\n",
      "25%         0.000000\n",
      "50%         0.000000\n",
      "75%         1.000000\n",
      "max         7.000000\n",
      "Name: MasVnrArea, dtype: float64\n",
      "\n",
      "-------------\n",
      "[MISSING VALUES]\n",
      "0.0%\n"
     ]
    }
   ],
   "source": [
    "elaborate(colN)"
   ]
  },
  {
   "cell_type": "code",
   "execution_count": 27,
   "id": "cb81a12e",
   "metadata": {},
   "outputs": [
    {
     "name": "stdout",
     "output_type": "stream",
     "text": [
      "---------[[[BsmtFinSF1]]]--------\n",
      "count    1458.000000\n",
      "mean      439.203704\n",
      "std       455.268042\n",
      "min         0.000000\n",
      "25%         0.000000\n",
      "50%       350.500000\n",
      "75%       753.500000\n",
      "max      4010.000000\n",
      "Name: BsmtFinSF1, dtype: float64\n",
      "\n",
      "-------------\n",
      "[MISSING VALUES]\n",
      "0.07%\n"
     ]
    }
   ],
   "source": [
    "updateName()"
   ]
  },
  {
   "cell_type": "code",
   "execution_count": 28,
   "id": "4eadbb39",
   "metadata": {},
   "outputs": [],
   "source": [
    "data[colN].fillna(data[colN].median(),inplace=True)"
   ]
  },
  {
   "cell_type": "code",
   "execution_count": 29,
   "id": "8c1c4794",
   "metadata": {},
   "outputs": [
    {
     "name": "stdout",
     "output_type": "stream",
     "text": [
      "---------[[[BsmtFinSF2]]]--------\n",
      "count    1458.000000\n",
      "mean       52.619342\n",
      "std       176.753926\n",
      "min         0.000000\n",
      "25%         0.000000\n",
      "50%         0.000000\n",
      "75%         0.000000\n",
      "max      1526.000000\n",
      "Name: BsmtFinSF2, dtype: float64\n",
      "\n",
      "-------------\n",
      "[MISSING VALUES]\n",
      "0.07%\n"
     ]
    }
   ],
   "source": [
    "updateName()"
   ]
  },
  {
   "cell_type": "code",
   "execution_count": 30,
   "id": "3479ee43",
   "metadata": {},
   "outputs": [],
   "source": [
    "data[colN].fillna(data[colN].median(),inplace=True)"
   ]
  },
  {
   "cell_type": "code",
   "execution_count": 31,
   "id": "d26824b4",
   "metadata": {},
   "outputs": [],
   "source": [
    "conditions=[\n",
    "    data[colN]==0,\n",
    "    (data[colN]>0)&(data[colN]<=200),\n",
    "    (data[colN]>200)&(data[colN]<=400),\n",
    "    (data[colN]>400)&(data[colN]<=600),\n",
    "    (data[colN]>600)&(data[colN]<=800),\n",
    "    (data[colN]>800)&(data[colN]<=1000),\n",
    "    (data[colN]>1000)&(data[colN]<=1200),\n",
    "    (data[colN]>1200)&(data[colN]<=1400),\n",
    "    (data[colN]>1400)&(data[colN]<=1600)\n",
    "]\n",
    "\n",
    "choice=[\n",
    "    0,\n",
    "    1,\n",
    "    2,\n",
    "    3,\n",
    "    4,\n",
    "    5,\n",
    "    6,\n",
    "    7,\n",
    "    8\n",
    "]"
   ]
  },
  {
   "cell_type": "code",
   "execution_count": 32,
   "id": "36ca4090",
   "metadata": {},
   "outputs": [],
   "source": [
    "data[colN]=np.select(conditions,choice,default=0)"
   ]
  },
  {
   "cell_type": "code",
   "execution_count": 33,
   "id": "9b54668c",
   "metadata": {},
   "outputs": [
    {
     "name": "stdout",
     "output_type": "stream",
     "text": [
      "count    1459.000000\n",
      "mean        0.327622\n",
      "std         1.026867\n",
      "min         0.000000\n",
      "25%         0.000000\n",
      "50%         0.000000\n",
      "75%         0.000000\n",
      "max         8.000000\n",
      "Name: BsmtFinSF2, dtype: float64\n",
      "\n",
      "-------------\n",
      "[MISSING VALUES]\n",
      "0.0%\n"
     ]
    }
   ],
   "source": [
    "elaborate(colN)"
   ]
  },
  {
   "cell_type": "code",
   "execution_count": 34,
   "id": "bed42d6a",
   "metadata": {},
   "outputs": [
    {
     "name": "stdout",
     "output_type": "stream",
     "text": [
      "---------[[[BsmtUnfSF]]]--------\n",
      "count    1458.000000\n",
      "mean      554.294925\n",
      "std       437.260486\n",
      "min         0.000000\n",
      "25%       219.250000\n",
      "50%       460.000000\n",
      "75%       797.750000\n",
      "max      2140.000000\n",
      "Name: BsmtUnfSF, dtype: float64\n",
      "\n",
      "-------------\n",
      "[MISSING VALUES]\n",
      "0.07%\n"
     ]
    }
   ],
   "source": [
    "updateName()"
   ]
  },
  {
   "cell_type": "code",
   "execution_count": 35,
   "id": "25eb4eac",
   "metadata": {},
   "outputs": [],
   "source": [
    "data[colN].fillna(data[colN].median(),inplace=True)"
   ]
  },
  {
   "cell_type": "code",
   "execution_count": 36,
   "id": "c2126555",
   "metadata": {},
   "outputs": [
    {
     "name": "stdout",
     "output_type": "stream",
     "text": [
      "---------[[[TotalBsmtSF]]]--------\n",
      "count    1458.000000\n",
      "mean     1046.117970\n",
      "std       442.898624\n",
      "min         0.000000\n",
      "25%       784.000000\n",
      "50%       988.000000\n",
      "75%      1305.000000\n",
      "max      5095.000000\n",
      "Name: TotalBsmtSF, dtype: float64\n",
      "\n",
      "-------------\n",
      "[MISSING VALUES]\n",
      "0.07%\n"
     ]
    }
   ],
   "source": [
    "updateName()"
   ]
  },
  {
   "cell_type": "code",
   "execution_count": 37,
   "id": "975d8342",
   "metadata": {},
   "outputs": [],
   "source": [
    "data[colN].fillna(data[colN].median(),inplace=True)"
   ]
  },
  {
   "cell_type": "code",
   "execution_count": 38,
   "id": "be041a9d",
   "metadata": {},
   "outputs": [],
   "source": [
    "data[colN]=np.where(data[colN]<=4000,data[colN],data['BsmtUnfSF']+data['BsmtFinSF2']*200+data['BsmtFinSF1'])"
   ]
  },
  {
   "cell_type": "code",
   "execution_count": 39,
   "id": "f7fb1f84",
   "metadata": {},
   "outputs": [
    {
     "name": "stdout",
     "output_type": "stream",
     "text": [
      "count    1459.000000\n",
      "mean     1046.078136\n",
      "std       442.749327\n",
      "min         0.000000\n",
      "25%       784.000000\n",
      "50%       988.000000\n",
      "75%      1304.000000\n",
      "max      5095.000000\n",
      "Name: TotalBsmtSF, dtype: float64\n",
      "\n",
      "-------------\n",
      "[MISSING VALUES]\n",
      "0.0%\n"
     ]
    }
   ],
   "source": [
    "elaborate(colN)"
   ]
  },
  {
   "cell_type": "code",
   "execution_count": 40,
   "id": "1aaead9f",
   "metadata": {},
   "outputs": [
    {
     "name": "stdout",
     "output_type": "stream",
     "text": [
      "---------[[[1stFlrSF]]]--------\n",
      "count    1459.000000\n",
      "mean     1156.534613\n",
      "std       398.165820\n",
      "min       407.000000\n",
      "25%       873.500000\n",
      "50%      1079.000000\n",
      "75%      1382.500000\n",
      "max      5095.000000\n",
      "Name: 1stFlrSF, dtype: float64\n",
      "\n",
      "-------------\n",
      "[MISSING VALUES]\n",
      "0.0%\n"
     ]
    }
   ],
   "source": [
    "updateName()"
   ]
  },
  {
   "cell_type": "code",
   "execution_count": 41,
   "id": "166353cb",
   "metadata": {},
   "outputs": [],
   "source": [
    "data[colN]=np.where(data[colN]<=4000, data[colN],data['2ndFlrSF'])"
   ]
  },
  {
   "cell_type": "code",
   "execution_count": 42,
   "id": "3c8d5352",
   "metadata": {},
   "outputs": [
    {
     "name": "stdout",
     "output_type": "stream",
     "text": [
      "count    1459.000000\n",
      "mean     1153.042495\n",
      "std       385.749042\n",
      "min         0.000000\n",
      "25%       872.500000\n",
      "50%      1079.000000\n",
      "75%      1382.000000\n",
      "max      3820.000000\n",
      "Name: 1stFlrSF, dtype: float64\n",
      "\n",
      "-------------\n",
      "[MISSING VALUES]\n",
      "0.0%\n"
     ]
    }
   ],
   "source": [
    "elaborate(colN)"
   ]
  },
  {
   "cell_type": "code",
   "execution_count": 43,
   "id": "d5f21997",
   "metadata": {},
   "outputs": [
    {
     "name": "stdout",
     "output_type": "stream",
     "text": [
      "---------[[[2ndFlrSF]]]--------\n",
      "count    1459.000000\n",
      "mean      325.967786\n",
      "std       420.610226\n",
      "min         0.000000\n",
      "25%         0.000000\n",
      "50%         0.000000\n",
      "75%       676.000000\n",
      "max      1862.000000\n",
      "Name: 2ndFlrSF, dtype: float64\n",
      "\n",
      "-------------\n",
      "[MISSING VALUES]\n",
      "0.0%\n"
     ]
    }
   ],
   "source": [
    "updateName()"
   ]
  },
  {
   "cell_type": "code",
   "execution_count": 44,
   "id": "92b8f97b",
   "metadata": {},
   "outputs": [
    {
     "name": "stdout",
     "output_type": "stream",
     "text": [
      "---------[[[LowQualFinSF]]]--------\n",
      "count    1459.000000\n",
      "mean        3.543523\n",
      "std        44.043251\n",
      "min         0.000000\n",
      "25%         0.000000\n",
      "50%         0.000000\n",
      "75%         0.000000\n",
      "max      1064.000000\n",
      "Name: LowQualFinSF, dtype: float64\n",
      "\n",
      "-------------\n",
      "[MISSING VALUES]\n",
      "0.0%\n"
     ]
    }
   ],
   "source": [
    "updateName()"
   ]
  },
  {
   "cell_type": "code",
   "execution_count": 45,
   "id": "df726daf",
   "metadata": {},
   "outputs": [
    {
     "data": {
      "text/plain": [
       "{0, 80, 108, 114, 140, 205, 259, 312, 362, 431, 436, 450, 512, 697, 1064}"
      ]
     },
     "execution_count": 45,
     "metadata": {},
     "output_type": "execute_result"
    }
   ],
   "source": [
    "set(data[colN].tolist())"
   ]
  },
  {
   "cell_type": "code",
   "execution_count": 46,
   "id": "84527b95",
   "metadata": {},
   "outputs": [],
   "source": [
    "conditions=[\n",
    "    data[colN]==0,\n",
    "    (data[colN]>0)&(data[colN]<=200),\n",
    "    (data[colN]>200)&(data[colN]<=400),\n",
    "    (data[colN]>400)&(data[colN]<=600)\n",
    "]\n",
    "\n",
    "choice=[\n",
    "    0,\n",
    "    1,\n",
    "    2,\n",
    "    3\n",
    "]"
   ]
  },
  {
   "cell_type": "code",
   "execution_count": 47,
   "id": "5ac5f50b",
   "metadata": {},
   "outputs": [],
   "source": [
    "data[colN]=np.select(conditions,choice,default=0)"
   ]
  },
  {
   "cell_type": "code",
   "execution_count": 48,
   "id": "5a7c60ba",
   "metadata": {},
   "outputs": [
    {
     "name": "stdout",
     "output_type": "stream",
     "text": [
      "count    1459.00000\n",
      "mean        0.01645\n",
      "std         0.19529\n",
      "min         0.00000\n",
      "25%         0.00000\n",
      "50%         0.00000\n",
      "75%         0.00000\n",
      "max         3.00000\n",
      "Name: LowQualFinSF, dtype: float64\n",
      "\n",
      "-------------\n",
      "[MISSING VALUES]\n",
      "0.0%\n"
     ]
    }
   ],
   "source": [
    "elaborate(colN)"
   ]
  },
  {
   "cell_type": "code",
   "execution_count": 49,
   "id": "be651258",
   "metadata": {},
   "outputs": [
    {
     "name": "stdout",
     "output_type": "stream",
     "text": [
      "---------[[[GrLivArea]]]--------\n",
      "count    1459.000000\n",
      "mean     1486.045922\n",
      "std       485.566099\n",
      "min       407.000000\n",
      "25%      1117.500000\n",
      "50%      1432.000000\n",
      "75%      1721.000000\n",
      "max      5095.000000\n",
      "Name: GrLivArea, dtype: float64\n",
      "\n",
      "-------------\n",
      "[MISSING VALUES]\n",
      "0.0%\n"
     ]
    }
   ],
   "source": [
    "updateName()"
   ]
  },
  {
   "cell_type": "code",
   "execution_count": 50,
   "id": "e72c5f6e",
   "metadata": {},
   "outputs": [
    {
     "name": "stdout",
     "output_type": "stream",
     "text": [
      "---------[[[BsmtFullBath]]]--------\n",
      "count    1457.000000\n",
      "mean        0.434454\n",
      "std         0.530648\n",
      "min         0.000000\n",
      "25%         0.000000\n",
      "50%         0.000000\n",
      "75%         1.000000\n",
      "max         3.000000\n",
      "Name: BsmtFullBath, dtype: float64\n",
      "\n",
      "-------------\n",
      "[MISSING VALUES]\n",
      "0.14%\n"
     ]
    }
   ],
   "source": [
    "updateName()"
   ]
  },
  {
   "cell_type": "code",
   "execution_count": 51,
   "id": "75459952",
   "metadata": {},
   "outputs": [],
   "source": [
    "data[colN].fillna(data[colN].mode(),inplace=True)"
   ]
  },
  {
   "cell_type": "code",
   "execution_count": 52,
   "id": "9ac1242e",
   "metadata": {},
   "outputs": [
    {
     "name": "stdout",
     "output_type": "stream",
     "text": [
      "---------[[[BsmtHalfBath]]]--------\n",
      "count    1457.000000\n",
      "mean        0.065202\n",
      "std         0.252468\n",
      "min         0.000000\n",
      "25%         0.000000\n",
      "50%         0.000000\n",
      "75%         0.000000\n",
      "max         2.000000\n",
      "Name: BsmtHalfBath, dtype: float64\n",
      "\n",
      "-------------\n",
      "[MISSING VALUES]\n",
      "0.14%\n"
     ]
    }
   ],
   "source": [
    "updateName()"
   ]
  },
  {
   "cell_type": "code",
   "execution_count": 53,
   "id": "f65bcd80",
   "metadata": {},
   "outputs": [],
   "source": [
    "data[colN].fillna(data[colN].mode(),inplace=True)"
   ]
  },
  {
   "cell_type": "code",
   "execution_count": 54,
   "id": "a27cad00",
   "metadata": {},
   "outputs": [
    {
     "name": "stdout",
     "output_type": "stream",
     "text": [
      "---------[[[FullBath]]]--------\n",
      "count    1459.000000\n",
      "mean        1.570939\n",
      "std         0.555190\n",
      "min         0.000000\n",
      "25%         1.000000\n",
      "50%         2.000000\n",
      "75%         2.000000\n",
      "max         4.000000\n",
      "Name: FullBath, dtype: float64\n",
      "\n",
      "-------------\n",
      "[MISSING VALUES]\n",
      "0.0%\n"
     ]
    }
   ],
   "source": [
    "updateName()"
   ]
  },
  {
   "cell_type": "code",
   "execution_count": 55,
   "id": "938aadf9",
   "metadata": {},
   "outputs": [
    {
     "name": "stdout",
     "output_type": "stream",
     "text": [
      "---------[[[HalfBath]]]--------\n",
      "count    1459.000000\n",
      "mean        0.377656\n",
      "std         0.503017\n",
      "min         0.000000\n",
      "25%         0.000000\n",
      "50%         0.000000\n",
      "75%         1.000000\n",
      "max         2.000000\n",
      "Name: HalfBath, dtype: float64\n",
      "\n",
      "-------------\n",
      "[MISSING VALUES]\n",
      "0.0%\n"
     ]
    }
   ],
   "source": [
    "updateName()"
   ]
  },
  {
   "cell_type": "code",
   "execution_count": 56,
   "id": "4e9ad4f2",
   "metadata": {},
   "outputs": [
    {
     "name": "stdout",
     "output_type": "stream",
     "text": [
      "---------[[[BedroomAbvGr]]]--------\n",
      "count    1459.000000\n",
      "mean        2.854010\n",
      "std         0.829788\n",
      "min         0.000000\n",
      "25%         2.000000\n",
      "50%         3.000000\n",
      "75%         3.000000\n",
      "max         6.000000\n",
      "Name: BedroomAbvGr, dtype: float64\n",
      "\n",
      "-------------\n",
      "[MISSING VALUES]\n",
      "0.0%\n"
     ]
    }
   ],
   "source": [
    "updateName()"
   ]
  },
  {
   "cell_type": "code",
   "execution_count": 57,
   "id": "390230a0",
   "metadata": {},
   "outputs": [
    {
     "name": "stdout",
     "output_type": "stream",
     "text": [
      "---------[[[KitchenAbvGr]]]--------\n",
      "count    1459.000000\n",
      "mean        1.042495\n",
      "std         0.208472\n",
      "min         0.000000\n",
      "25%         1.000000\n",
      "50%         1.000000\n",
      "75%         1.000000\n",
      "max         2.000000\n",
      "Name: KitchenAbvGr, dtype: float64\n",
      "\n",
      "-------------\n",
      "[MISSING VALUES]\n",
      "0.0%\n"
     ]
    }
   ],
   "source": [
    "updateName()"
   ]
  },
  {
   "cell_type": "code",
   "execution_count": 58,
   "id": "33d2bb25",
   "metadata": {},
   "outputs": [
    {
     "name": "stdout",
     "output_type": "stream",
     "text": [
      "---------[[[TotRmsAbvGrd]]]--------\n",
      "count    1459.000000\n",
      "mean        6.385195\n",
      "std         1.508895\n",
      "min         3.000000\n",
      "25%         5.000000\n",
      "50%         6.000000\n",
      "75%         7.000000\n",
      "max        15.000000\n",
      "Name: TotRmsAbvGrd, dtype: float64\n",
      "\n",
      "-------------\n",
      "[MISSING VALUES]\n",
      "0.0%\n"
     ]
    }
   ],
   "source": [
    "updateName()"
   ]
  },
  {
   "cell_type": "code",
   "execution_count": 59,
   "id": "e60691bc",
   "metadata": {},
   "outputs": [
    {
     "name": "stdout",
     "output_type": "stream",
     "text": [
      "---------[[[Fireplaces]]]--------\n",
      "count    1459.00000\n",
      "mean        0.58122\n",
      "std         0.64742\n",
      "min         0.00000\n",
      "25%         0.00000\n",
      "50%         0.00000\n",
      "75%         1.00000\n",
      "max         4.00000\n",
      "Name: Fireplaces, dtype: float64\n",
      "\n",
      "-------------\n",
      "[MISSING VALUES]\n",
      "0.0%\n"
     ]
    }
   ],
   "source": [
    "updateName()"
   ]
  },
  {
   "cell_type": "code",
   "execution_count": 60,
   "id": "07323ccb",
   "metadata": {},
   "outputs": [
    {
     "name": "stdout",
     "output_type": "stream",
     "text": [
      "---------[[[GarageYrBlt]]]--------\n",
      "count    1381.000000\n",
      "mean     1977.721217\n",
      "std        26.431175\n",
      "min      1895.000000\n",
      "25%      1959.000000\n",
      "50%      1979.000000\n",
      "75%      2002.000000\n",
      "max      2207.000000\n",
      "Name: GarageYrBlt, dtype: float64\n",
      "\n",
      "-------------\n",
      "[MISSING VALUES]\n",
      "5.35%\n"
     ]
    }
   ],
   "source": [
    "updateName()"
   ]
  },
  {
   "cell_type": "code",
   "execution_count": 61,
   "id": "8756dc6d",
   "metadata": {},
   "outputs": [],
   "source": [
    "data[colN]=np.where(data[colN].isna(),data['YearBuilt'],data[colN])"
   ]
  },
  {
   "cell_type": "code",
   "execution_count": 62,
   "id": "24e01c4d",
   "metadata": {},
   "outputs": [
    {
     "name": "stdout",
     "output_type": "stream",
     "text": [
      "count    1459.000000\n",
      "mean     1976.000000\n",
      "std        27.761773\n",
      "min      1890.000000\n",
      "25%      1958.000000\n",
      "50%      1978.000000\n",
      "75%      2002.000000\n",
      "max      2207.000000\n",
      "Name: GarageYrBlt, dtype: float64\n",
      "\n",
      "-------------\n",
      "[MISSING VALUES]\n",
      "0.0%\n"
     ]
    }
   ],
   "source": [
    "elaborate(colN)"
   ]
  },
  {
   "cell_type": "code",
   "execution_count": 63,
   "id": "dab1895d",
   "metadata": {},
   "outputs": [
    {
     "name": "stdout",
     "output_type": "stream",
     "text": [
      "---------[[[GarageCars]]]--------\n",
      "count    1458.000000\n",
      "mean        1.766118\n",
      "std         0.775945\n",
      "min         0.000000\n",
      "25%         1.000000\n",
      "50%         2.000000\n",
      "75%         2.000000\n",
      "max         5.000000\n",
      "Name: GarageCars, dtype: float64\n",
      "\n",
      "-------------\n",
      "[MISSING VALUES]\n",
      "0.07%\n"
     ]
    }
   ],
   "source": [
    "updateName()"
   ]
  },
  {
   "cell_type": "code",
   "execution_count": 64,
   "id": "7f0161dd",
   "metadata": {},
   "outputs": [],
   "source": [
    "data[colN].fillna(data[colN].mode(),inplace=True)"
   ]
  },
  {
   "cell_type": "code",
   "execution_count": 65,
   "id": "cdc89be9",
   "metadata": {},
   "outputs": [
    {
     "name": "stdout",
     "output_type": "stream",
     "text": [
      "---------[[[GarageArea]]]--------\n",
      "count    1458.000000\n",
      "mean      472.768861\n",
      "std       217.048611\n",
      "min         0.000000\n",
      "25%       318.000000\n",
      "50%       480.000000\n",
      "75%       576.000000\n",
      "max      1488.000000\n",
      "Name: GarageArea, dtype: float64\n",
      "\n",
      "-------------\n",
      "[MISSING VALUES]\n",
      "0.07%\n"
     ]
    }
   ],
   "source": [
    "updateName()"
   ]
  },
  {
   "cell_type": "code",
   "execution_count": 65,
   "id": "e38206f3",
   "metadata": {},
   "outputs": [
    {
     "data": {
      "text/plain": [
       "array([[1.        , 0.88247541],\n",
       "       [0.88247541, 1.        ]])"
      ]
     },
     "execution_count": 65,
     "metadata": {},
     "output_type": "execute_result"
    }
   ],
   "source": [
    "np.corrcoef(data[colN],data['GarageCars'])"
   ]
  },
  {
   "cell_type": "code",
   "execution_count": 66,
   "id": "53828cf6",
   "metadata": {},
   "outputs": [
    {
     "data": {
      "text/plain": [
       "288.0"
      ]
     },
     "execution_count": 66,
     "metadata": {},
     "output_type": "execute_result"
    }
   ],
   "source": [
    "data[colN].loc[data['GarageCars']==1].median()"
   ]
  },
  {
   "cell_type": "code",
   "execution_count": 66,
   "id": "29c611fa",
   "metadata": {},
   "outputs": [],
   "source": [
    "q1=data[colN].quantile(0.25)\n",
    "q3=data[colN].quantile(0.75)\n",
    "irq=q3-q1\n",
    "\n",
    "conditions=[\n",
    "    ((data[colN] > q1 - 1.5 * irq) & (data[colN] < q3 + 1.5 * irq)),\n",
    "    (data['GarageCars']==1)&((data[colN] <= q1 - 1.5 * irq) | (data[colN] >= q3 + 1.5 * irq)),\n",
    "    (data['GarageCars']==2)&((data[colN] <= q1 - 1.5 * irq) | (data[colN] >= q3 + 1.5 * irq)),\n",
    "    (data['GarageCars']==3)&((data[colN] <= q1 - 1.5 * irq) | (data[colN] >= q3 + 1.5 * irq)),\n",
    "    (data['GarageCars']==4)&((data[colN] <= q1 - 1.5 * irq) | (data[colN] >= q3 + 1.5 * irq))\n",
    "]\n",
    "\n",
    "choice=[\n",
    "    data[colN],\n",
    "    data['GarageArea'].loc[data['GarageCars']==1].median(),\n",
    "    data['GarageArea'].loc[data['GarageCars']==2].median(),\n",
    "    data['GarageArea'].loc[data['GarageCars']==3].median(),\n",
    "    data['GarageArea'].loc[data['GarageCars']==4].median()\n",
    "]"
   ]
  },
  {
   "cell_type": "code",
   "execution_count": 67,
   "id": "fc2346b1",
   "metadata": {},
   "outputs": [],
   "source": [
    "data[colN]=np.select(conditions,choice,default=300)"
   ]
  },
  {
   "cell_type": "code",
   "execution_count": 68,
   "id": "7decfed3",
   "metadata": {},
   "outputs": [
    {
     "name": "stdout",
     "output_type": "stream",
     "text": [
      "count    1459.000000\n",
      "mean      467.530500\n",
      "std       205.252268\n",
      "min         0.000000\n",
      "25%       316.500000\n",
      "50%       479.000000\n",
      "75%       576.000000\n",
      "max       962.000000\n",
      "Name: GarageArea, dtype: float64\n",
      "\n",
      "-------------\n",
      "[MISSING VALUES]\n",
      "0.0%\n"
     ]
    }
   ],
   "source": [
    "elaborate(colN)"
   ]
  },
  {
   "cell_type": "code",
   "execution_count": 69,
   "id": "7ac0219e",
   "metadata": {},
   "outputs": [
    {
     "name": "stdout",
     "output_type": "stream",
     "text": [
      "---------[[[WoodDeckSF]]]--------\n",
      "count    1459.000000\n",
      "mean       93.174777\n",
      "std       127.744882\n",
      "min         0.000000\n",
      "25%         0.000000\n",
      "50%         0.000000\n",
      "75%       168.000000\n",
      "max      1424.000000\n",
      "Name: WoodDeckSF, dtype: float64\n",
      "\n",
      "-------------\n",
      "[MISSING VALUES]\n",
      "0.0%\n"
     ]
    }
   ],
   "source": [
    "updateName()"
   ]
  },
  {
   "cell_type": "code",
   "execution_count": 70,
   "id": "c41109d3",
   "metadata": {},
   "outputs": [
    {
     "name": "stdout",
     "output_type": "stream",
     "text": [
      "---------[[[OpenPorchSF]]]--------\n",
      "count    1459.000000\n",
      "mean       48.313914\n",
      "std        68.883364\n",
      "min         0.000000\n",
      "25%         0.000000\n",
      "50%        28.000000\n",
      "75%        72.000000\n",
      "max       742.000000\n",
      "Name: OpenPorchSF, dtype: float64\n",
      "\n",
      "-------------\n",
      "[MISSING VALUES]\n",
      "0.0%\n"
     ]
    }
   ],
   "source": [
    "updateName()"
   ]
  },
  {
   "cell_type": "code",
   "execution_count": 71,
   "id": "4c0682a4",
   "metadata": {},
   "outputs": [
    {
     "name": "stdout",
     "output_type": "stream",
     "text": [
      "---------[[[EnclosedPorch]]]--------\n",
      "count    1459.000000\n",
      "mean       24.243317\n",
      "std        67.227765\n",
      "min         0.000000\n",
      "25%         0.000000\n",
      "50%         0.000000\n",
      "75%         0.000000\n",
      "max      1012.000000\n",
      "Name: EnclosedPorch, dtype: float64\n",
      "\n",
      "-------------\n",
      "[MISSING VALUES]\n",
      "0.0%\n"
     ]
    }
   ],
   "source": [
    "updateName()"
   ]
  },
  {
   "cell_type": "code",
   "execution_count": 72,
   "id": "c3b59660",
   "metadata": {
    "scrolled": true
   },
   "outputs": [
    {
     "data": {
      "text/plain": [
       "{0,\n",
       " 16,\n",
       " 18,\n",
       " 20,\n",
       " 23,\n",
       " 24,\n",
       " 25,\n",
       " 26,\n",
       " 28,\n",
       " 30,\n",
       " 32,\n",
       " 34,\n",
       " 35,\n",
       " 36,\n",
       " 40,\n",
       " 41,\n",
       " 42,\n",
       " 43,\n",
       " 45,\n",
       " 48,\n",
       " 51,\n",
       " 52,\n",
       " 55,\n",
       " 56,\n",
       " 57,\n",
       " 60,\n",
       " 64,\n",
       " 66,\n",
       " 68,\n",
       " 70,\n",
       " 72,\n",
       " 75,\n",
       " 77,\n",
       " 78,\n",
       " 80,\n",
       " 81,\n",
       " 84,\n",
       " 86,\n",
       " 88,\n",
       " 90,\n",
       " 92,\n",
       " 94,\n",
       " 96,\n",
       " 98,\n",
       " 100,\n",
       " 101,\n",
       " 102,\n",
       " 104,\n",
       " 105,\n",
       " 109,\n",
       " 112,\n",
       " 113,\n",
       " 116,\n",
       " 117,\n",
       " 120,\n",
       " 121,\n",
       " 122,\n",
       " 123,\n",
       " 126,\n",
       " 128,\n",
       " 132,\n",
       " 133,\n",
       " 134,\n",
       " 135,\n",
       " 136,\n",
       " 138,\n",
       " 139,\n",
       " 140,\n",
       " 143,\n",
       " 144,\n",
       " 148,\n",
       " 150,\n",
       " 154,\n",
       " 156,\n",
       " 160,\n",
       " 161,\n",
       " 164,\n",
       " 165,\n",
       " 167,\n",
       " 168,\n",
       " 169,\n",
       " 170,\n",
       " 175,\n",
       " 176,\n",
       " 180,\n",
       " 183,\n",
       " 186,\n",
       " 190,\n",
       " 192,\n",
       " 196,\n",
       " 200,\n",
       " 203,\n",
       " 204,\n",
       " 205,\n",
       " 207,\n",
       " 208,\n",
       " 209,\n",
       " 211,\n",
       " 212,\n",
       " 213,\n",
       " 216,\n",
       " 218,\n",
       " 219,\n",
       " 222,\n",
       " 224,\n",
       " 225,\n",
       " 231,\n",
       " 236,\n",
       " 238,\n",
       " 239,\n",
       " 240,\n",
       " 244,\n",
       " 246,\n",
       " 248,\n",
       " 249,\n",
       " 256,\n",
       " 260,\n",
       " 264,\n",
       " 265,\n",
       " 280,\n",
       " 288,\n",
       " 290,\n",
       " 296,\n",
       " 324,\n",
       " 334,\n",
       " 364,\n",
       " 368,\n",
       " 429,\n",
       " 432,\n",
       " 584,\n",
       " 1012}"
      ]
     },
     "execution_count": 72,
     "metadata": {},
     "output_type": "execute_result"
    }
   ],
   "source": [
    "set(data[colN].tolist())"
   ]
  },
  {
   "cell_type": "code",
   "execution_count": 73,
   "id": "226dd5f5",
   "metadata": {},
   "outputs": [],
   "source": [
    "conditions=[\n",
    "    data[colN]==0,\n",
    "    (data[colN]>0)&(data[colN]<=200),\n",
    "    (data[colN]>200)&(data[colN]<=400),\n",
    "    (data[colN]>400)&(data[colN]<=600)\n",
    "]\n",
    "\n",
    "choice=[\n",
    "    0,\n",
    "    1,\n",
    "    2,\n",
    "    3\n",
    "]"
   ]
  },
  {
   "cell_type": "code",
   "execution_count": 74,
   "id": "6d596e1b",
   "metadata": {},
   "outputs": [],
   "source": [
    "data[colN]=np.select(conditions,choice,default=0)"
   ]
  },
  {
   "cell_type": "code",
   "execution_count": 75,
   "id": "3d51f19f",
   "metadata": {},
   "outputs": [
    {
     "name": "stdout",
     "output_type": "stream",
     "text": [
      "count    1459.000000\n",
      "mean        0.209047\n",
      "std         0.494996\n",
      "min         0.000000\n",
      "25%         0.000000\n",
      "50%         0.000000\n",
      "75%         0.000000\n",
      "max         3.000000\n",
      "Name: EnclosedPorch, dtype: float64\n",
      "\n",
      "-------------\n",
      "[MISSING VALUES]\n",
      "0.0%\n"
     ]
    }
   ],
   "source": [
    "elaborate(colN)"
   ]
  },
  {
   "cell_type": "code",
   "execution_count": 76,
   "id": "def42e2e",
   "metadata": {},
   "outputs": [
    {
     "name": "stdout",
     "output_type": "stream",
     "text": [
      "---------[[[3SsnPorch]]]--------\n",
      "count    1459.000000\n",
      "mean        1.794380\n",
      "std        20.207842\n",
      "min         0.000000\n",
      "25%         0.000000\n",
      "50%         0.000000\n",
      "75%         0.000000\n",
      "max       360.000000\n",
      "Name: 3SsnPorch, dtype: float64\n",
      "\n",
      "-------------\n",
      "[MISSING VALUES]\n",
      "0.0%\n"
     ]
    }
   ],
   "source": [
    "updateName()"
   ]
  },
  {
   "cell_type": "code",
   "execution_count": 77,
   "id": "ff1ec8a6",
   "metadata": {},
   "outputs": [
    {
     "data": {
      "text/plain": [
       "{0, 86, 120, 150, 153, 174, 176, 219, 224, 225, 255, 323, 360}"
      ]
     },
     "execution_count": 77,
     "metadata": {},
     "output_type": "execute_result"
    }
   ],
   "source": [
    "set(data[colN].tolist())"
   ]
  },
  {
   "cell_type": "code",
   "execution_count": 78,
   "id": "bde2c904",
   "metadata": {},
   "outputs": [],
   "source": [
    "conditions=[\n",
    "    data[colN]==0,\n",
    "    (data[colN]>0)&(data[colN]<=200),\n",
    "    (data[colN]>200)&(data[colN]<=400),\n",
    "    (data[colN]>400)&(data[colN]<=600)\n",
    "]\n",
    "\n",
    "choice=[\n",
    "    0,\n",
    "    1,\n",
    "    2,\n",
    "    3\n",
    "]"
   ]
  },
  {
   "cell_type": "code",
   "execution_count": 79,
   "id": "62d407f2",
   "metadata": {},
   "outputs": [],
   "source": [
    "data[colN]=np.select(conditions,choice,default=0)"
   ]
  },
  {
   "cell_type": "code",
   "execution_count": 80,
   "id": "bb266f5e",
   "metadata": {},
   "outputs": [
    {
     "name": "stdout",
     "output_type": "stream",
     "text": [
      "count    1459.000000\n",
      "mean        0.013023\n",
      "std         0.145232\n",
      "min         0.000000\n",
      "25%         0.000000\n",
      "50%         0.000000\n",
      "75%         0.000000\n",
      "max         2.000000\n",
      "Name: 3SsnPorch, dtype: float64\n",
      "\n",
      "-------------\n",
      "[MISSING VALUES]\n",
      "0.0%\n"
     ]
    }
   ],
   "source": [
    "elaborate(colN)"
   ]
  },
  {
   "cell_type": "code",
   "execution_count": 81,
   "id": "d501d8da",
   "metadata": {},
   "outputs": [
    {
     "name": "stdout",
     "output_type": "stream",
     "text": [
      "---------[[[ScreenPorch]]]--------\n",
      "count    1459.000000\n",
      "mean       17.064428\n",
      "std        56.609763\n",
      "min         0.000000\n",
      "25%         0.000000\n",
      "50%         0.000000\n",
      "75%         0.000000\n",
      "max       576.000000\n",
      "Name: ScreenPorch, dtype: float64\n",
      "\n",
      "-------------\n",
      "[MISSING VALUES]\n",
      "0.0%\n"
     ]
    }
   ],
   "source": [
    "updateName()"
   ]
  },
  {
   "cell_type": "code",
   "execution_count": 82,
   "id": "de6b7ccb",
   "metadata": {
    "scrolled": true
   },
   "outputs": [
    {
     "data": {
      "text/plain": [
       "{0,\n",
       " 64,\n",
       " 84,\n",
       " 88,\n",
       " 92,\n",
       " 94,\n",
       " 95,\n",
       " 100,\n",
       " 104,\n",
       " 108,\n",
       " 109,\n",
       " 110,\n",
       " 111,\n",
       " 112,\n",
       " 113,\n",
       " 115,\n",
       " 116,\n",
       " 117,\n",
       " 120,\n",
       " 121,\n",
       " 123,\n",
       " 126,\n",
       " 135,\n",
       " 138,\n",
       " 140,\n",
       " 141,\n",
       " 142,\n",
       " 144,\n",
       " 145,\n",
       " 148,\n",
       " 150,\n",
       " 153,\n",
       " 155,\n",
       " 156,\n",
       " 160,\n",
       " 161,\n",
       " 162,\n",
       " 164,\n",
       " 165,\n",
       " 166,\n",
       " 168,\n",
       " 171,\n",
       " 174,\n",
       " 175,\n",
       " 180,\n",
       " 182,\n",
       " 192,\n",
       " 195,\n",
       " 196,\n",
       " 200,\n",
       " 201,\n",
       " 204,\n",
       " 208,\n",
       " 210,\n",
       " 216,\n",
       " 217,\n",
       " 221,\n",
       " 224,\n",
       " 225,\n",
       " 227,\n",
       " 228,\n",
       " 231,\n",
       " 240,\n",
       " 255,\n",
       " 256,\n",
       " 264,\n",
       " 266,\n",
       " 270,\n",
       " 280,\n",
       " 288,\n",
       " 322,\n",
       " 342,\n",
       " 348,\n",
       " 490,\n",
       " 576}"
      ]
     },
     "execution_count": 82,
     "metadata": {},
     "output_type": "execute_result"
    }
   ],
   "source": [
    "set(data[colN].tolist())"
   ]
  },
  {
   "cell_type": "code",
   "execution_count": 83,
   "id": "f988b55b",
   "metadata": {},
   "outputs": [],
   "source": [
    "conditions=[\n",
    "    data[colN]==0,\n",
    "    (data[colN]>0)&(data[colN]<=200),\n",
    "    (data[colN]>200)&(data[colN]<=400),\n",
    "    (data[colN]>400)&(data[colN]<=600)\n",
    "]\n",
    "\n",
    "choice=[\n",
    "    0,\n",
    "    1,\n",
    "    2,\n",
    "    3\n",
    "]"
   ]
  },
  {
   "cell_type": "code",
   "execution_count": 84,
   "id": "5741428c",
   "metadata": {},
   "outputs": [],
   "source": [
    "data[colN]=np.select(conditions,choice,default=0)"
   ]
  },
  {
   "cell_type": "code",
   "execution_count": 85,
   "id": "ab9c39c5",
   "metadata": {},
   "outputs": [
    {
     "name": "stdout",
     "output_type": "stream",
     "text": [
      "count    1459.000000\n",
      "mean        0.124058\n",
      "std         0.409545\n",
      "min         0.000000\n",
      "25%         0.000000\n",
      "50%         0.000000\n",
      "75%         0.000000\n",
      "max         3.000000\n",
      "Name: ScreenPorch, dtype: float64\n",
      "\n",
      "-------------\n",
      "[MISSING VALUES]\n",
      "0.0%\n"
     ]
    }
   ],
   "source": [
    "elaborate(colN)"
   ]
  },
  {
   "cell_type": "code",
   "execution_count": 86,
   "id": "d0f4d7eb",
   "metadata": {},
   "outputs": [
    {
     "name": "stdout",
     "output_type": "stream",
     "text": [
      "---------[[[PoolArea]]]--------\n",
      "count    1459.000000\n",
      "mean        1.744345\n",
      "std        30.491646\n",
      "min         0.000000\n",
      "25%         0.000000\n",
      "50%         0.000000\n",
      "75%         0.000000\n",
      "max       800.000000\n",
      "Name: PoolArea, dtype: float64\n",
      "\n",
      "-------------\n",
      "[MISSING VALUES]\n",
      "0.0%\n"
     ]
    }
   ],
   "source": [
    "updateName()"
   ]
  },
  {
   "cell_type": "code",
   "execution_count": 87,
   "id": "18100bb8",
   "metadata": {},
   "outputs": [
    {
     "data": {
      "text/plain": [
       "{0, 144, 228, 368, 444, 561, 800}"
      ]
     },
     "execution_count": 87,
     "metadata": {},
     "output_type": "execute_result"
    }
   ],
   "source": [
    "set(data[colN].tolist())"
   ]
  },
  {
   "cell_type": "code",
   "execution_count": 88,
   "id": "8002f2fe",
   "metadata": {},
   "outputs": [],
   "source": [
    "conditions=[\n",
    "    data[colN]==0,\n",
    "]\n",
    "\n",
    "choice=[\n",
    "    0\n",
    "]"
   ]
  },
  {
   "cell_type": "code",
   "execution_count": 89,
   "id": "1efbf509",
   "metadata": {},
   "outputs": [],
   "source": [
    "data[colN]=np.select(conditions,choice,default=1)"
   ]
  },
  {
   "cell_type": "code",
   "execution_count": 90,
   "id": "6969a8ce",
   "metadata": {},
   "outputs": [
    {
     "name": "stdout",
     "output_type": "stream",
     "text": [
      "count    1459.000000\n",
      "mean        0.004112\n",
      "std         0.064018\n",
      "min         0.000000\n",
      "25%         0.000000\n",
      "50%         0.000000\n",
      "75%         0.000000\n",
      "max         1.000000\n",
      "Name: PoolArea, dtype: float64\n",
      "\n",
      "-------------\n",
      "[MISSING VALUES]\n",
      "0.0%\n"
     ]
    }
   ],
   "source": [
    "elaborate(colN)"
   ]
  },
  {
   "cell_type": "code",
   "execution_count": 91,
   "id": "32368ef6",
   "metadata": {},
   "outputs": [
    {
     "name": "stdout",
     "output_type": "stream",
     "text": [
      "---------[[[MiscVal]]]--------\n",
      "count     1459.000000\n",
      "mean        58.167923\n",
      "std        630.806978\n",
      "min          0.000000\n",
      "25%          0.000000\n",
      "50%          0.000000\n",
      "75%          0.000000\n",
      "max      17000.000000\n",
      "Name: MiscVal, dtype: float64\n",
      "\n",
      "-------------\n",
      "[MISSING VALUES]\n",
      "0.0%\n"
     ]
    }
   ],
   "source": [
    "updateName()"
   ]
  },
  {
   "cell_type": "code",
   "execution_count": 92,
   "id": "49e4342d",
   "metadata": {},
   "outputs": [
    {
     "data": {
      "text/plain": [
       "{0,\n",
       " 80,\n",
       " 300,\n",
       " 400,\n",
       " 420,\n",
       " 450,\n",
       " 455,\n",
       " 460,\n",
       " 490,\n",
       " 500,\n",
       " 600,\n",
       " 650,\n",
       " 700,\n",
       " 750,\n",
       " 900,\n",
       " 1000,\n",
       " 1200,\n",
       " 1500,\n",
       " 1512,\n",
       " 2000,\n",
       " 2500,\n",
       " 3000,\n",
       " 4500,\n",
       " 6500,\n",
       " 12500,\n",
       " 17000}"
      ]
     },
     "execution_count": 92,
     "metadata": {},
     "output_type": "execute_result"
    }
   ],
   "source": [
    "set(data[colN].tolist())"
   ]
  },
  {
   "cell_type": "code",
   "execution_count": 93,
   "id": "fed3e905",
   "metadata": {},
   "outputs": [
    {
     "name": "stdout",
     "output_type": "stream",
     "text": [
      "---------[[[MoSold]]]--------\n",
      "count    1459.000000\n",
      "mean        6.104181\n",
      "std         2.722432\n",
      "min         1.000000\n",
      "25%         4.000000\n",
      "50%         6.000000\n",
      "75%         8.000000\n",
      "max        12.000000\n",
      "Name: MoSold, dtype: float64\n",
      "\n",
      "-------------\n",
      "[MISSING VALUES]\n",
      "0.0%\n"
     ]
    }
   ],
   "source": [
    "updateName()"
   ]
  },
  {
   "cell_type": "code",
   "execution_count": 94,
   "id": "9cc11a2e",
   "metadata": {},
   "outputs": [
    {
     "name": "stdout",
     "output_type": "stream",
     "text": [
      "---------[[[YrSold]]]--------\n",
      "count    1459.000000\n",
      "mean     2007.769705\n",
      "std         1.301740\n",
      "min      2006.000000\n",
      "25%      2007.000000\n",
      "50%      2008.000000\n",
      "75%      2009.000000\n",
      "max      2010.000000\n",
      "Name: YrSold, dtype: float64\n",
      "\n",
      "-------------\n",
      "[MISSING VALUES]\n",
      "0.0%\n"
     ]
    }
   ],
   "source": [
    "updateName()"
   ]
  },
  {
   "cell_type": "markdown",
   "id": "32f87488",
   "metadata": {},
   "source": [
    "END OF NUMERICAL DATA\n",
    "\n",
    "\n",
    "STARTING WITH CATEGORICAL DATA"
   ]
  },
  {
   "cell_type": "code",
   "execution_count": 96,
   "id": "59a7ee24",
   "metadata": {},
   "outputs": [
    {
     "data": {
      "text/plain": [
       "['MSZoning',\n",
       " 'Street',\n",
       " 'Alley',\n",
       " 'LotShape',\n",
       " 'LandContour',\n",
       " 'Utilities',\n",
       " 'LotConfig',\n",
       " 'LandSlope',\n",
       " 'Neighborhood',\n",
       " 'Condition1',\n",
       " 'Condition2',\n",
       " 'BldgType',\n",
       " 'HouseStyle',\n",
       " 'RoofStyle',\n",
       " 'RoofMatl',\n",
       " 'Exterior1st',\n",
       " 'Exterior2nd',\n",
       " 'MasVnrType',\n",
       " 'ExterQual',\n",
       " 'ExterCond',\n",
       " 'Foundation',\n",
       " 'BsmtQual',\n",
       " 'BsmtCond',\n",
       " 'BsmtExposure',\n",
       " 'BsmtFinType1',\n",
       " 'BsmtFinType2',\n",
       " 'Heating',\n",
       " 'HeatingQC',\n",
       " 'CentralAir',\n",
       " 'Electrical',\n",
       " 'KitchenQual',\n",
       " 'Functional',\n",
       " 'FireplaceQu',\n",
       " 'GarageType',\n",
       " 'GarageFinish',\n",
       " 'GarageQual',\n",
       " 'GarageCond',\n",
       " 'PavedDrive',\n",
       " 'PoolQC',\n",
       " 'Fence',\n",
       " 'MiscFeature',\n",
       " 'SaleType',\n",
       " 'SaleCondition']"
      ]
     },
     "execution_count": 96,
     "metadata": {},
     "output_type": "execute_result"
    }
   ],
   "source": [
    "categorical"
   ]
  },
  {
   "cell_type": "code",
   "execution_count": 97,
   "id": "9766d4cf",
   "metadata": {},
   "outputs": [],
   "source": [
    "def CatElaborate():\n",
    "    print(data[colN].describe())\n",
    "    print('\\n-------------\\n[MISSING VALUES]')\n",
    "    print(f'{np.round(data[colN].isna().sum()*100/data.shape[0],2)}%')\n",
    "    print('\\n-------------\\n[FREQUENCIES]')\n",
    "    print(data[colN].value_counts())\n",
    "    sns.countplot(data[colN])\n",
    "    \n",
    "def getName():\n",
    "    for col in categorical:\n",
    "        yield col\n",
    "gen=getName()\n",
    "\n",
    "def updateName():\n",
    "    global colN,gen\n",
    "    colN=next(gen)\n",
    "    print(f\"---------[[[{colN}]]]--------\")\n",
    "    CatElaborate()"
   ]
  },
  {
   "cell_type": "code",
   "execution_count": 98,
   "id": "e50c97a0",
   "metadata": {},
   "outputs": [],
   "source": [
    "def nominalEncoding():\n",
    "    global colN,data\n",
    "    dummies=pd.get_dummies(data[colN],prefix=colN+'__')\n",
    "    data=data.join(dummies)\n",
    "    data.drop(colN,axis=1,inplace=True)\n",
    "    print((dummies.shape)[1], 'columns added!')\n",
    "    \n",
    "def ordinalEncoding(*saved):\n",
    "    global colN\n",
    "    dic=create_dic(*saved)\n",
    "    data[colN+'_Encoded']=data[colN].map(dic)\n",
    "    data.drop(colN,axis=1,inplace=True)\n",
    "\n",
    "master_encode_dic={}\n",
    "\n",
    "saved_encoding={\n",
    "    'ExNA':{\n",
    "        'Ex':5,'Gd':4,'TA':3,'Fa':2,'Po':1,'NA':0\n",
    "    },\n",
    "    'GLQNA':{\n",
    "         \"GLQ\":6,\"ALQ\":5,'BLQ':4,'Rec':3,'LwQ':2,'Unf':1,'NA':0\n",
    "    },\n",
    "    'YN':{\n",
    "        \"Y\":1,'N':0\n",
    "    },\n",
    "    'FinNA':{\n",
    "         \"Fin\":3,\"RFn\":2,\"Unf\":1,\"NA\":0\n",
    "    },\n",
    "    'RegIR3':{\n",
    "        'Reg':3, 'IR1':2, 'IR2':1, 'IR3':0\n",
    "    },\n",
    "    'LvlLow':{\n",
    "         'Lvl':3,'Bnk':2,'HLS':1,'Low':0\n",
    "    },\n",
    "    'GtlSev':{\n",
    "        'Gtl':2,'Mod':1,'Sev':0\n",
    "    },\n",
    "    'GdNA':{\n",
    "         'Gd':4,'Av':3,'Mn':2,'No':1,'NA':0\n",
    "    }\n",
    "    \n",
    "}\n",
    "\n",
    "def create_dic(*saved):\n",
    "    global data,master_encode_dic,saved_encoding,colN\n",
    "    print(data[colN].unique())\n",
    "    dic={}\n",
    "    if saved[0]:\n",
    "        print('Labeling Done')\n",
    "        master_encode_dic[colN]=saved_encoding[saved[0]]\n",
    "        return saved_encoding[saved[0]]\n",
    "    for value in data[colN].unique():\n",
    "        dic[value]=int(input(f\"Label for {value}:\"))\n",
    "    print('Labeling Done')\n",
    "    master_encode_dic[colN]=dic\n",
    "    return dic\n",
    "    \n",
    "def Cat_missing(*value):\n",
    "    if len(value)==0:\n",
    "        data[colN].fillna('NA',inplace=True)\n",
    "    else:\n",
    "        data[colN].fillna(value[0],inplace=True)"
   ]
  },
  {
   "cell_type": "code",
   "execution_count": 99,
   "id": "cb5046b7",
   "metadata": {
    "scrolled": false
   },
   "outputs": [
    {
     "name": "stdout",
     "output_type": "stream",
     "text": [
      "---------[[[MSZoning]]]--------\n",
      "count     1455\n",
      "unique       5\n",
      "top         RL\n",
      "freq      1114\n",
      "Name: MSZoning, dtype: object\n",
      "\n",
      "-------------\n",
      "[MISSING VALUES]\n",
      "0.27%\n",
      "\n",
      "-------------\n",
      "[FREQUENCIES]\n",
      "RL         1114\n",
      "RM          242\n",
      "FV           74\n",
      "C (all)      15\n",
      "RH           10\n",
      "Name: MSZoning, dtype: int64\n"
     ]
    },
    {
     "data": {
      "image/png": "[encoded data removed]",
      "text/plain": [
       "<Figure size 432x288 with 1 Axes>"
      ]
     },
     "metadata": {
      "needs_background": "light"
     },
     "output_type": "display_data"
    }
   ],
   "source": [
    "updateName()"
   ]
  },
  {
   "cell_type": "code",
   "execution_count": 100,
   "id": "c9264281",
   "metadata": {},
   "outputs": [],
   "source": [
    "Cat_missing()"
   ]
  },
  {
   "cell_type": "code",
   "execution_count": 101,
   "id": "1d8a4c1a",
   "metadata": {},
   "outputs": [
    {
     "name": "stdout",
     "output_type": "stream",
     "text": [
      "6 columns added!\n"
     ]
    }
   ],
   "source": [
    "nominalEncoding()"
   ]
  },
  {
   "cell_type": "code",
   "execution_count": 102,
   "id": "bf777fc1",
   "metadata": {},
   "outputs": [
    {
     "name": "stdout",
     "output_type": "stream",
     "text": [
      "---------[[[Street]]]--------\n",
      "count     1459\n",
      "unique       2\n",
      "top       Pave\n",
      "freq      1453\n",
      "Name: Street, dtype: object\n",
      "\n",
      "-------------\n",
      "[MISSING VALUES]\n",
      "0.0%\n",
      "\n",
      "-------------\n",
      "[FREQUENCIES]\n",
      "Pave    1453\n",
      "Grvl       6\n",
      "Name: Street, dtype: int64\n"
     ]
    },
    {
     "data": {
      "image/png": "[encoded data removed]",
      "text/plain": [
       "<Figure size 432x288 with 1 Axes>"
      ]
     },
     "metadata": {
      "needs_background": "light"
     },
     "output_type": "display_data"
    }
   ],
   "source": [
    "updateName()"
   ]
  },
  {
   "cell_type": "code",
   "execution_count": 103,
   "id": "34460105",
   "metadata": {},
   "outputs": [
    {
     "name": "stdout",
     "output_type": "stream",
     "text": [
      "2 columns added!\n"
     ]
    }
   ],
   "source": [
    "nominalEncoding()"
   ]
  },
  {
   "cell_type": "code",
   "execution_count": 104,
   "id": "86d8509c",
   "metadata": {},
   "outputs": [
    {
     "name": "stdout",
     "output_type": "stream",
     "text": [
      "---------[[[Alley]]]--------\n",
      "count      107\n",
      "unique       2\n",
      "top       Grvl\n",
      "freq        70\n",
      "Name: Alley, dtype: object\n",
      "\n",
      "-------------\n",
      "[MISSING VALUES]\n",
      "92.67%\n",
      "\n",
      "-------------\n",
      "[FREQUENCIES]\n",
      "Grvl    70\n",
      "Pave    37\n",
      "Name: Alley, dtype: int64\n"
     ]
    },
    {
     "data": {
      "image/png": "[encoded data removed]",
      "text/plain": [
       "<Figure size 432x288 with 1 Axes>"
      ]
     },
     "metadata": {
      "needs_background": "light"
     },
     "output_type": "display_data"
    }
   ],
   "source": [
    "updateName()"
   ]
  },
  {
   "cell_type": "code",
   "execution_count": 105,
   "id": "b22add70",
   "metadata": {},
   "outputs": [],
   "source": [
    "Cat_missing()"
   ]
  },
  {
   "cell_type": "code",
   "execution_count": 106,
   "id": "ab75179c",
   "metadata": {},
   "outputs": [
    {
     "name": "stdout",
     "output_type": "stream",
     "text": [
      "3 columns added!\n"
     ]
    }
   ],
   "source": [
    "nominalEncoding()"
   ]
  },
  {
   "cell_type": "code",
   "execution_count": 107,
   "id": "fe774e40",
   "metadata": {},
   "outputs": [
    {
     "name": "stdout",
     "output_type": "stream",
     "text": [
      "---------[[[LotShape]]]--------\n",
      "count     1459\n",
      "unique       4\n",
      "top        Reg\n",
      "freq       934\n",
      "Name: LotShape, dtype: object\n",
      "\n",
      "-------------\n",
      "[MISSING VALUES]\n",
      "0.0%\n",
      "\n",
      "-------------\n",
      "[FREQUENCIES]\n",
      "Reg    934\n",
      "IR1    484\n",
      "IR2     35\n",
      "IR3      6\n",
      "Name: LotShape, dtype: int64\n"
     ]
    },
    {
     "data": {
      "image/png": "[encoded data removed]",
      "text/plain": [
       "<Figure size 432x288 with 1 Axes>"
      ]
     },
     "metadata": {
      "needs_background": "light"
     },
     "output_type": "display_data"
    }
   ],
   "source": [
    "updateName()"
   ]
  },
  {
   "cell_type": "code",
   "execution_count": 108,
   "id": "a2183cb3",
   "metadata": {},
   "outputs": [
    {
     "name": "stdout",
     "output_type": "stream",
     "text": [
      "['Reg' 'IR1' 'IR2' 'IR3']\n",
      "Labeling Done\n"
     ]
    }
   ],
   "source": [
    "ordinalEncoding('RegIR3')"
   ]
  },
  {
   "cell_type": "code",
   "execution_count": 109,
   "id": "f7e80a7b",
   "metadata": {},
   "outputs": [
    {
     "name": "stdout",
     "output_type": "stream",
     "text": [
      "---------[[[LandContour]]]--------\n",
      "count     1459\n",
      "unique       4\n",
      "top        Lvl\n",
      "freq      1311\n",
      "Name: LandContour, dtype: object\n",
      "\n",
      "-------------\n",
      "[MISSING VALUES]\n",
      "0.0%\n",
      "\n",
      "-------------\n",
      "[FREQUENCIES]\n",
      "Lvl    1311\n",
      "HLS      70\n",
      "Bnk      54\n",
      "Low      24\n",
      "Name: LandContour, dtype: int64\n"
     ]
    },
    {
     "data": {
      "image/png": "[encoded data removed]",
      "text/plain": [
       "<Figure size 432x288 with 1 Axes>"
      ]
     },
     "metadata": {
      "needs_background": "light"
     },
     "output_type": "display_data"
    }
   ],
   "source": [
    "updateName()"
   ]
  },
  {
   "cell_type": "code",
   "execution_count": 110,
   "id": "6fdb674e",
   "metadata": {},
   "outputs": [
    {
     "name": "stdout",
     "output_type": "stream",
     "text": [
      "['Lvl' 'HLS' 'Bnk' 'Low']\n",
      "Labeling Done\n"
     ]
    }
   ],
   "source": [
    "ordinalEncoding('LvlLow')"
   ]
  },
  {
   "cell_type": "code",
   "execution_count": 111,
   "id": "65945b85",
   "metadata": {},
   "outputs": [
    {
     "name": "stdout",
     "output_type": "stream",
     "text": [
      "---------[[[Utilities]]]--------\n",
      "count       1457\n",
      "unique         1\n",
      "top       AllPub\n",
      "freq        1457\n",
      "Name: Utilities, dtype: object\n",
      "\n",
      "-------------\n",
      "[MISSING VALUES]\n",
      "0.14%\n",
      "\n",
      "-------------\n",
      "[FREQUENCIES]\n",
      "AllPub    1457\n",
      "Name: Utilities, dtype: int64\n"
     ]
    },
    {
     "data": {
      "image/png": "[encoded data removed]",
      "text/plain": [
       "<Figure size 432x288 with 1 Axes>"
      ]
     },
     "metadata": {
      "needs_background": "light"
     },
     "output_type": "display_data"
    }
   ],
   "source": [
    "updateName()"
   ]
  },
  {
   "cell_type": "code",
   "execution_count": 112,
   "id": "3ff904f5",
   "metadata": {},
   "outputs": [],
   "source": [
    "Cat_missing()"
   ]
  },
  {
   "cell_type": "code",
   "execution_count": 113,
   "id": "e59804d2",
   "metadata": {},
   "outputs": [
    {
     "name": "stdout",
     "output_type": "stream",
     "text": [
      "2 columns added!\n"
     ]
    }
   ],
   "source": [
    "nominalEncoding()"
   ]
  },
  {
   "cell_type": "code",
   "execution_count": 114,
   "id": "cdec8ff4",
   "metadata": {},
   "outputs": [
    {
     "name": "stdout",
     "output_type": "stream",
     "text": [
      "---------[[[LotConfig]]]--------\n",
      "count       1459\n",
      "unique         5\n",
      "top       Inside\n",
      "freq        1081\n",
      "Name: LotConfig, dtype: object\n",
      "\n",
      "-------------\n",
      "[MISSING VALUES]\n",
      "0.0%\n",
      "\n",
      "-------------\n",
      "[FREQUENCIES]\n",
      "Inside     1081\n",
      "Corner      248\n",
      "CulDSac      82\n",
      "FR2          38\n",
      "FR3          10\n",
      "Name: LotConfig, dtype: int64\n"
     ]
    },
    {
     "data": {
      "image/png": "[encoded data removed]",
      "text/plain": [
       "<Figure size 432x288 with 1 Axes>"
      ]
     },
     "metadata": {
      "needs_background": "light"
     },
     "output_type": "display_data"
    }
   ],
   "source": [
    "updateName()"
   ]
  },
  {
   "cell_type": "code",
   "execution_count": 115,
   "id": "6805cc55",
   "metadata": {},
   "outputs": [
    {
     "name": "stdout",
     "output_type": "stream",
     "text": [
      "5 columns added!\n"
     ]
    }
   ],
   "source": [
    "nominalEncoding()"
   ]
  },
  {
   "cell_type": "code",
   "execution_count": 116,
   "id": "788963e8",
   "metadata": {},
   "outputs": [
    {
     "name": "stdout",
     "output_type": "stream",
     "text": [
      "---------[[[LandSlope]]]--------\n",
      "count     1459\n",
      "unique       3\n",
      "top        Gtl\n",
      "freq      1396\n",
      "Name: LandSlope, dtype: object\n",
      "\n",
      "-------------\n",
      "[MISSING VALUES]\n",
      "0.0%\n",
      "\n",
      "-------------\n",
      "[FREQUENCIES]\n",
      "Gtl    1396\n",
      "Mod      60\n",
      "Sev       3\n",
      "Name: LandSlope, dtype: int64\n"
     ]
    },
    {
     "data": {
      "image/png": "[encoded data removed]",
      "text/plain": [
       "<Figure size 432x288 with 1 Axes>"
      ]
     },
     "metadata": {
      "needs_background": "light"
     },
     "output_type": "display_data"
    }
   ],
   "source": [
    "updateName()"
   ]
  },
  {
   "cell_type": "code",
   "execution_count": 117,
   "id": "e3ba2eea",
   "metadata": {},
   "outputs": [
    {
     "name": "stdout",
     "output_type": "stream",
     "text": [
      "['Gtl' 'Mod' 'Sev']\n",
      "Labeling Done\n"
     ]
    }
   ],
   "source": [
    "ordinalEncoding('GtlSev')"
   ]
  },
  {
   "cell_type": "code",
   "execution_count": 118,
   "id": "79494c7b",
   "metadata": {},
   "outputs": [
    {
     "name": "stdout",
     "output_type": "stream",
     "text": [
      "---------[[[Neighborhood]]]--------\n",
      "count      1459\n",
      "unique       25\n",
      "top       NAmes\n",
      "freq        218\n",
      "Name: Neighborhood, dtype: object\n",
      "\n",
      "-------------\n",
      "[MISSING VALUES]\n",
      "0.0%\n",
      "\n",
      "-------------\n",
      "[FREQUENCIES]\n",
      "NAmes      218\n",
      "OldTown    126\n",
      "CollgCr    117\n",
      "Somerst     96\n",
      "Edwards     94\n",
      "NridgHt     89\n",
      "Gilbert     86\n",
      "Sawyer      77\n",
      "SawyerW     66\n",
      "Mitchel     65\n",
      "NWAmes      58\n",
      "IDOTRR      56\n",
      "Crawfor     52\n",
      "BrkSide     50\n",
      "Timber      34\n",
      "NoRidge     30\n",
      "StoneBr     26\n",
      "SWISU       23\n",
      "MeadowV     20\n",
      "ClearCr     16\n",
      "BrDale      14\n",
      "NPkVill     14\n",
      "Veenker     13\n",
      "Blmngtn     11\n",
      "Blueste      8\n",
      "Name: Neighborhood, dtype: int64\n"
     ]
    },
    {
     "data": {
      "image/png": "[encoded data removed]",
      "text/plain": [
       "<Figure size 432x288 with 1 Axes>"
      ]
     },
     "metadata": {
      "needs_background": "light"
     },
     "output_type": "display_data"
    }
   ],
   "source": [
    "updateName()"
   ]
  },
  {
   "cell_type": "code",
   "execution_count": 119,
   "id": "8d9316db",
   "metadata": {},
   "outputs": [
    {
     "name": "stdout",
     "output_type": "stream",
     "text": [
      "25 columns added!\n"
     ]
    }
   ],
   "source": [
    "nominalEncoding()"
   ]
  },
  {
   "cell_type": "code",
   "execution_count": 120,
   "id": "ed5f2b20",
   "metadata": {},
   "outputs": [
    {
     "name": "stdout",
     "output_type": "stream",
     "text": [
      "---------[[[Condition1]]]--------\n",
      "count     1459\n",
      "unique       9\n",
      "top       Norm\n",
      "freq      1251\n",
      "Name: Condition1, dtype: object\n",
      "\n",
      "-------------\n",
      "[MISSING VALUES]\n",
      "0.0%\n",
      "\n",
      "-------------\n",
      "[FREQUENCIES]\n",
      "Norm      1251\n",
      "Feedr       83\n",
      "Artery      44\n",
      "RRAn        24\n",
      "PosN        20\n",
      "RRAe        17\n",
      "PosA        12\n",
      "RRNe         4\n",
      "RRNn         4\n",
      "Name: Condition1, dtype: int64\n"
     ]
    },
    {
     "data": {
      "image/png": "[encoded data removed]",
      "text/plain": [
       "<Figure size 432x288 with 1 Axes>"
      ]
     },
     "metadata": {
      "needs_background": "light"
     },
     "output_type": "display_data"
    }
   ],
   "source": [
    "updateName()"
   ]
  },
  {
   "cell_type": "code",
   "execution_count": 121,
   "id": "02d770ba",
   "metadata": {},
   "outputs": [
    {
     "name": "stdout",
     "output_type": "stream",
     "text": [
      "9 columns added!\n"
     ]
    }
   ],
   "source": [
    "nominalEncoding()"
   ]
  },
  {
   "cell_type": "code",
   "execution_count": 122,
   "id": "20e60afd",
   "metadata": {},
   "outputs": [
    {
     "name": "stdout",
     "output_type": "stream",
     "text": [
      "---------[[[Condition2]]]--------\n",
      "count     1459\n",
      "unique       5\n",
      "top       Norm\n",
      "freq      1444\n",
      "Name: Condition2, dtype: object\n",
      "\n",
      "-------------\n",
      "[MISSING VALUES]\n",
      "0.0%\n",
      "\n",
      "-------------\n",
      "[FREQUENCIES]\n",
      "Norm      1444\n",
      "Feedr        7\n",
      "PosA         3\n",
      "Artery       3\n",
      "PosN         2\n",
      "Name: Condition2, dtype: int64\n"
     ]
    },
    {
     "data": {
      "image/png": "[encoded data removed]",
      "text/plain": [
       "<Figure size 432x288 with 1 Axes>"
      ]
     },
     "metadata": {
      "needs_background": "light"
     },
     "output_type": "display_data"
    }
   ],
   "source": [
    "updateName()"
   ]
  },
  {
   "cell_type": "code",
   "execution_count": 123,
   "id": "a2649ff0",
   "metadata": {},
   "outputs": [
    {
     "name": "stdout",
     "output_type": "stream",
     "text": [
      "5 columns added!\n"
     ]
    }
   ],
   "source": [
    "nominalEncoding()"
   ]
  },
  {
   "cell_type": "code",
   "execution_count": 124,
   "id": "22eb9dda",
   "metadata": {},
   "outputs": [
    {
     "name": "stdout",
     "output_type": "stream",
     "text": [
      "---------[[[BldgType]]]--------\n",
      "count     1459\n",
      "unique       5\n",
      "top       1Fam\n",
      "freq      1205\n",
      "Name: BldgType, dtype: object\n",
      "\n",
      "-------------\n",
      "[MISSING VALUES]\n",
      "0.0%\n",
      "\n",
      "-------------\n",
      "[FREQUENCIES]\n",
      "1Fam      1205\n",
      "TwnhsE     113\n",
      "Duplex      57\n",
      "Twnhs       53\n",
      "2fmCon      31\n",
      "Name: BldgType, dtype: int64\n"
     ]
    },
    {
     "data": {
      "image/png": "[encoded data removed]",
      "text/plain": [
       "<Figure size 432x288 with 1 Axes>"
      ]
     },
     "metadata": {
      "needs_background": "light"
     },
     "output_type": "display_data"
    }
   ],
   "source": [
    "updateName()"
   ]
  },
  {
   "cell_type": "code",
   "execution_count": 125,
   "id": "6b852730",
   "metadata": {},
   "outputs": [
    {
     "name": "stdout",
     "output_type": "stream",
     "text": [
      "5 columns added!\n"
     ]
    }
   ],
   "source": [
    "nominalEncoding()"
   ]
  },
  {
   "cell_type": "code",
   "execution_count": 126,
   "id": "0570d000",
   "metadata": {},
   "outputs": [
    {
     "name": "stdout",
     "output_type": "stream",
     "text": [
      "---------[[[HouseStyle]]]--------\n",
      "count       1459\n",
      "unique         7\n",
      "top       1Story\n",
      "freq         745\n",
      "Name: HouseStyle, dtype: object\n",
      "\n",
      "-------------\n",
      "[MISSING VALUES]\n",
      "0.0%\n",
      "\n",
      "-------------\n",
      "[FREQUENCIES]\n",
      "1Story    745\n",
      "2Story    427\n",
      "1.5Fin    160\n",
      "SLvl       63\n",
      "SFoyer     46\n",
      "2.5Unf     13\n",
      "1.5Unf      5\n",
      "Name: HouseStyle, dtype: int64\n"
     ]
    },
    {
     "data": {
      "image/png": "[encoded data removed]",
      "text/plain": [
       "<Figure size 432x288 with 1 Axes>"
      ]
     },
     "metadata": {
      "needs_background": "light"
     },
     "output_type": "display_data"
    }
   ],
   "source": [
    "updateName()"
   ]
  },
  {
   "cell_type": "code",
   "execution_count": 127,
   "id": "946ab673",
   "metadata": {},
   "outputs": [
    {
     "name": "stdout",
     "output_type": "stream",
     "text": [
      "7 columns added!\n"
     ]
    }
   ],
   "source": [
    "nominalEncoding()"
   ]
  },
  {
   "cell_type": "code",
   "execution_count": 128,
   "id": "f218b7b1",
   "metadata": {},
   "outputs": [
    {
     "name": "stdout",
     "output_type": "stream",
     "text": [
      "---------[[[RoofStyle]]]--------\n",
      "count      1459\n",
      "unique        6\n",
      "top       Gable\n",
      "freq       1169\n",
      "Name: RoofStyle, dtype: object\n",
      "\n",
      "-------------\n",
      "[MISSING VALUES]\n",
      "0.0%\n",
      "\n",
      "-------------\n",
      "[FREQUENCIES]\n",
      "Gable      1169\n",
      "Hip         265\n",
      "Gambrel      11\n",
      "Flat          7\n",
      "Mansard       4\n",
      "Shed          3\n",
      "Name: RoofStyle, dtype: int64\n"
     ]
    },
    {
     "data": {
      "image/png": "[encoded data removed]",
      "text/plain": [
       "<Figure size 432x288 with 1 Axes>"
      ]
     },
     "metadata": {
      "needs_background": "light"
     },
     "output_type": "display_data"
    }
   ],
   "source": [
    "updateName()"
   ]
  },
  {
   "cell_type": "code",
   "execution_count": 129,
   "id": "44246af5",
   "metadata": {},
   "outputs": [
    {
     "name": "stdout",
     "output_type": "stream",
     "text": [
      "6 columns added!\n"
     ]
    }
   ],
   "source": [
    "nominalEncoding()"
   ]
  },
  {
   "cell_type": "code",
   "execution_count": 130,
   "id": "752eacfb",
   "metadata": {},
   "outputs": [
    {
     "name": "stdout",
     "output_type": "stream",
     "text": [
      "---------[[[RoofMatl]]]--------\n",
      "count        1459\n",
      "unique          4\n",
      "top       CompShg\n",
      "freq         1442\n",
      "Name: RoofMatl, dtype: object\n",
      "\n",
      "-------------\n",
      "[MISSING VALUES]\n",
      "0.0%\n",
      "\n",
      "-------------\n",
      "[FREQUENCIES]\n",
      "CompShg    1442\n",
      "Tar&Grv      12\n",
      "WdShake       4\n",
      "WdShngl       1\n",
      "Name: RoofMatl, dtype: int64\n"
     ]
    },
    {
     "data": {
      "image/png": "[encoded data removed]",
      "text/plain": [
       "<Figure size 432x288 with 1 Axes>"
      ]
     },
     "metadata": {
      "needs_background": "light"
     },
     "output_type": "display_data"
    }
   ],
   "source": [
    "updateName()"
   ]
  },
  {
   "cell_type": "code",
   "execution_count": 131,
   "id": "63880d8b",
   "metadata": {},
   "outputs": [
    {
     "name": "stdout",
     "output_type": "stream",
     "text": [
      "4 columns added!\n"
     ]
    }
   ],
   "source": [
    "nominalEncoding()"
   ]
  },
  {
   "cell_type": "code",
   "execution_count": 132,
   "id": "1365e83a",
   "metadata": {},
   "outputs": [
    {
     "name": "stdout",
     "output_type": "stream",
     "text": [
      "---------[[[Exterior1st]]]--------\n",
      "count        1458\n",
      "unique         13\n",
      "top       VinylSd\n",
      "freq          510\n",
      "Name: Exterior1st, dtype: object\n",
      "\n",
      "-------------\n",
      "[MISSING VALUES]\n",
      "0.07%\n",
      "\n",
      "-------------\n",
      "[FREQUENCIES]\n",
      "VinylSd    510\n",
      "MetalSd    230\n",
      "HdBoard    220\n",
      "Wd Sdng    205\n",
      "Plywood    113\n",
      "CemntBd     65\n",
      "BrkFace     37\n",
      "WdShing     30\n",
      "AsbShng     24\n",
      "Stucco      18\n",
      "BrkComm      4\n",
      "AsphShn      1\n",
      "CBlock       1\n",
      "Name: Exterior1st, dtype: int64\n"
     ]
    },
    {
     "data": {
      "image/png": "[encoded data removed]",
      "text/plain": [
       "<Figure size 432x288 with 1 Axes>"
      ]
     },
     "metadata": {
      "needs_background": "light"
     },
     "output_type": "display_data"
    }
   ],
   "source": [
    "updateName()"
   ]
  },
  {
   "cell_type": "code",
   "execution_count": 135,
   "id": "941512da",
   "metadata": {},
   "outputs": [],
   "source": [
    "Cat_missing()"
   ]
  },
  {
   "cell_type": "code",
   "execution_count": 136,
   "id": "94265ee3",
   "metadata": {},
   "outputs": [
    {
     "name": "stdout",
     "output_type": "stream",
     "text": [
      "16 columns added!\n"
     ]
    }
   ],
   "source": [
    "nominalEncoding()"
   ]
  },
  {
   "cell_type": "code",
   "execution_count": 137,
   "id": "83cff622",
   "metadata": {},
   "outputs": [
    {
     "name": "stdout",
     "output_type": "stream",
     "text": [
      "---------[[[MasVnrType]]]--------\n",
      "count     1443\n",
      "unique       4\n",
      "top       None\n",
      "freq       878\n",
      "Name: MasVnrType, dtype: object\n",
      "\n",
      "-------------\n",
      "[MISSING VALUES]\n",
      "1.1%\n",
      "\n",
      "-------------\n",
      "[FREQUENCIES]\n",
      "None       878\n",
      "BrkFace    434\n",
      "Stone      121\n",
      "BrkCmn      10\n",
      "Name: MasVnrType, dtype: int64\n"
     ]
    },
    {
     "data": {
      "image/png": "[encoded data removed]",
      "text/plain": [
       "<Figure size 432x288 with 1 Axes>"
      ]
     },
     "metadata": {
      "needs_background": "light"
     },
     "output_type": "display_data"
    }
   ],
   "source": [
    "updateName()"
   ]
  },
  {
   "cell_type": "code",
   "execution_count": 138,
   "id": "3f98d1ac",
   "metadata": {},
   "outputs": [],
   "source": [
    "Cat_missing()"
   ]
  },
  {
   "cell_type": "code",
   "execution_count": null,
   "id": "dfae3572",
   "metadata": {},
   "outputs": [],
   "source": []
  },
  {
   "cell_type": "code",
   "execution_count": 139,
   "id": "d8e36884",
   "metadata": {},
   "outputs": [
    {
     "name": "stdout",
     "output_type": "stream",
     "text": [
      "5 columns added!\n"
     ]
    }
   ],
   "source": [
    "nominalEncoding()"
   ]
  },
  {
   "cell_type": "code",
   "execution_count": 140,
   "id": "3fb19b8a",
   "metadata": {},
   "outputs": [
    {
     "name": "stdout",
     "output_type": "stream",
     "text": [
      "---------[[[ExterQual]]]--------\n",
      "count     1459\n",
      "unique       4\n",
      "top         TA\n",
      "freq       892\n",
      "Name: ExterQual, dtype: object\n",
      "\n",
      "-------------\n",
      "[MISSING VALUES]\n",
      "0.0%\n",
      "\n",
      "-------------\n",
      "[FREQUENCIES]\n",
      "TA    892\n",
      "Gd    491\n",
      "Ex     55\n",
      "Fa     21\n",
      "Name: ExterQual, dtype: int64\n"
     ]
    },
    {
     "data": {
      "image/png": "[encoded data removed]",
      "text/plain": [
       "<Figure size 432x288 with 1 Axes>"
      ]
     },
     "metadata": {
      "needs_background": "light"
     },
     "output_type": "display_data"
    }
   ],
   "source": [
    "updateName()"
   ]
  },
  {
   "cell_type": "code",
   "execution_count": 136,
   "id": "76c23ce5",
   "metadata": {},
   "outputs": [],
   "source": [
    "Cat_missing('None')"
   ]
  },
  {
   "cell_type": "code",
   "execution_count": 141,
   "id": "a0c4b4ef",
   "metadata": {},
   "outputs": [
    {
     "name": "stdout",
     "output_type": "stream",
     "text": [
      "4 columns added!\n"
     ]
    }
   ],
   "source": [
    "nominalEncoding()"
   ]
  },
  {
   "cell_type": "code",
   "execution_count": 142,
   "id": "df454f18",
   "metadata": {},
   "outputs": [
    {
     "name": "stdout",
     "output_type": "stream",
     "text": [
      "---------[[[ExterCond]]]--------\n",
      "count     1459\n",
      "unique       5\n",
      "top         TA\n",
      "freq      1256\n",
      "Name: ExterCond, dtype: object\n",
      "\n",
      "-------------\n",
      "[MISSING VALUES]\n",
      "0.0%\n",
      "\n",
      "-------------\n",
      "[FREQUENCIES]\n",
      "TA    1256\n",
      "Gd     153\n",
      "Fa      39\n",
      "Ex       9\n",
      "Po       2\n",
      "Name: ExterCond, dtype: int64\n"
     ]
    },
    {
     "data": {
      "image/png": "[encoded data removed]",
      "text/plain": [
       "<Figure size 432x288 with 1 Axes>"
      ]
     },
     "metadata": {
      "needs_background": "light"
     },
     "output_type": "display_data"
    }
   ],
   "source": [
    "updateName()"
   ]
  },
  {
   "cell_type": "code",
   "execution_count": 143,
   "id": "54bf0a6a",
   "metadata": {},
   "outputs": [
    {
     "name": "stdout",
     "output_type": "stream",
     "text": [
      "['TA' 'Gd' 'Fa' 'Po' 'Ex']\n",
      "Labeling Done\n"
     ]
    }
   ],
   "source": [
    "ordinalEncoding('ExNA')"
   ]
  },
  {
   "cell_type": "code",
   "execution_count": 144,
   "id": "14068c4c",
   "metadata": {},
   "outputs": [
    {
     "name": "stdout",
     "output_type": "stream",
     "text": [
      "---------[[[Foundation]]]--------\n",
      "count      1459\n",
      "unique        6\n",
      "top       PConc\n",
      "freq        661\n",
      "Name: Foundation, dtype: object\n",
      "\n",
      "-------------\n",
      "[MISSING VALUES]\n",
      "0.0%\n",
      "\n",
      "-------------\n",
      "[FREQUENCIES]\n",
      "PConc     661\n",
      "CBlock    601\n",
      "BrkTil    165\n",
      "Slab       25\n",
      "Stone       5\n",
      "Wood        2\n",
      "Name: Foundation, dtype: int64\n"
     ]
    },
    {
     "data": {
      "image/png": "[encoded data removed]",
      "text/plain": [
       "<Figure size 432x288 with 1 Axes>"
      ]
     },
     "metadata": {
      "needs_background": "light"
     },
     "output_type": "display_data"
    }
   ],
   "source": [
    "updateName()"
   ]
  },
  {
   "cell_type": "code",
   "execution_count": 145,
   "id": "e57086dc",
   "metadata": {},
   "outputs": [
    {
     "name": "stdout",
     "output_type": "stream",
     "text": [
      "['CBlock' 'PConc' 'BrkTil' 'Stone' 'Slab' 'Wood']\n",
      "Labeling Done\n"
     ]
    }
   ],
   "source": [
    "ordinalEncoding('ExNA')"
   ]
  },
  {
   "cell_type": "code",
   "execution_count": 146,
   "id": "8ac7e2c0",
   "metadata": {},
   "outputs": [
    {
     "name": "stdout",
     "output_type": "stream",
     "text": [
      "---------[[[BsmtQual]]]--------\n",
      "count     1415\n",
      "unique       4\n",
      "top         TA\n",
      "freq       634\n",
      "Name: BsmtQual, dtype: object\n",
      "\n",
      "-------------\n",
      "[MISSING VALUES]\n",
      "3.02%\n",
      "\n",
      "-------------\n",
      "[FREQUENCIES]\n",
      "TA    634\n",
      "Gd    591\n",
      "Ex    137\n",
      "Fa     53\n",
      "Name: BsmtQual, dtype: int64\n"
     ]
    },
    {
     "data": {
      "image/png": "[encoded data removed]",
      "text/plain": [
       "<Figure size 432x288 with 1 Axes>"
      ]
     },
     "metadata": {
      "needs_background": "light"
     },
     "output_type": "display_data"
    }
   ],
   "source": [
    "updateName()"
   ]
  },
  {
   "cell_type": "code",
   "execution_count": 147,
   "id": "09f8b2aa",
   "metadata": {},
   "outputs": [],
   "source": [
    "Cat_missing()"
   ]
  },
  {
   "cell_type": "code",
   "execution_count": 148,
   "id": "3bac326d",
   "metadata": {},
   "outputs": [
    {
     "name": "stdout",
     "output_type": "stream",
     "text": [
      "5 columns added!\n"
     ]
    }
   ],
   "source": [
    "nominalEncoding()"
   ]
  },
  {
   "cell_type": "code",
   "execution_count": 149,
   "id": "8d18c26a",
   "metadata": {},
   "outputs": [
    {
     "name": "stdout",
     "output_type": "stream",
     "text": [
      "---------[[[BsmtCond]]]--------\n",
      "count     1414\n",
      "unique       4\n",
      "top         TA\n",
      "freq      1295\n",
      "Name: BsmtCond, dtype: object\n",
      "\n",
      "-------------\n",
      "[MISSING VALUES]\n",
      "3.08%\n",
      "\n",
      "-------------\n",
      "[FREQUENCIES]\n",
      "TA    1295\n",
      "Fa      59\n",
      "Gd      57\n",
      "Po       3\n",
      "Name: BsmtCond, dtype: int64\n"
     ]
    },
    {
     "data": {
      "image/png": "[encoded data removed]",
      "text/plain": [
       "<Figure size 432x288 with 1 Axes>"
      ]
     },
     "metadata": {
      "needs_background": "light"
     },
     "output_type": "display_data"
    }
   ],
   "source": [
    "updateName()"
   ]
  },
  {
   "cell_type": "code",
   "execution_count": 150,
   "id": "4aefbabf",
   "metadata": {},
   "outputs": [],
   "source": [
    "Cat_missing()"
   ]
  },
  {
   "cell_type": "code",
   "execution_count": 151,
   "id": "fd660dd2",
   "metadata": {},
   "outputs": [
    {
     "name": "stdout",
     "output_type": "stream",
     "text": [
      "['TA' 'Po' 'Fa' 'Gd' 'NA']\n",
      "Labeling Done\n"
     ]
    }
   ],
   "source": [
    "ordinalEncoding('ExNA')"
   ]
  },
  {
   "cell_type": "code",
   "execution_count": 152,
   "id": "b4368330",
   "metadata": {},
   "outputs": [
    {
     "name": "stdout",
     "output_type": "stream",
     "text": [
      "---------[[[BsmtExposure]]]--------\n",
      "count     1415\n",
      "unique       4\n",
      "top         No\n",
      "freq       951\n",
      "Name: BsmtExposure, dtype: object\n",
      "\n",
      "-------------\n",
      "[MISSING VALUES]\n",
      "3.02%\n",
      "\n",
      "-------------\n",
      "[FREQUENCIES]\n",
      "No    951\n",
      "Av    197\n",
      "Gd    142\n",
      "Mn    125\n",
      "Name: BsmtExposure, dtype: int64\n"
     ]
    },
    {
     "data": {
      "image/png": "[encoded data removed]",
      "text/plain": [
       "<Figure size 432x288 with 1 Axes>"
      ]
     },
     "metadata": {
      "needs_background": "light"
     },
     "output_type": "display_data"
    }
   ],
   "source": [
    "updateName()"
   ]
  },
  {
   "cell_type": "code",
   "execution_count": 153,
   "id": "50b2f706",
   "metadata": {},
   "outputs": [],
   "source": [
    "Cat_missing()"
   ]
  },
  {
   "cell_type": "code",
   "execution_count": 154,
   "id": "0b352d77",
   "metadata": {},
   "outputs": [
    {
     "name": "stdout",
     "output_type": "stream",
     "text": [
      "['No' 'Gd' 'Mn' 'Av' 'NA']\n",
      "Labeling Done\n"
     ]
    }
   ],
   "source": [
    "ordinalEncoding('ExNA')"
   ]
  },
  {
   "cell_type": "code",
   "execution_count": 155,
   "id": "e87dcff4",
   "metadata": {},
   "outputs": [
    {
     "name": "stdout",
     "output_type": "stream",
     "text": [
      "---------[[[BsmtFinType1]]]--------\n",
      "count     1417\n",
      "unique       6\n",
      "top        GLQ\n",
      "freq       431\n",
      "Name: BsmtFinType1, dtype: object\n",
      "\n",
      "-------------\n",
      "[MISSING VALUES]\n",
      "2.88%\n",
      "\n",
      "-------------\n",
      "[FREQUENCIES]\n",
      "GLQ    431\n",
      "Unf    421\n",
      "ALQ    209\n",
      "Rec    155\n",
      "BLQ    121\n",
      "LwQ     80\n",
      "Name: BsmtFinType1, dtype: int64\n"
     ]
    },
    {
     "data": {
      "image/png": "[encoded data removed]",
      "text/plain": [
       "<Figure size 432x288 with 1 Axes>"
      ]
     },
     "metadata": {
      "needs_background": "light"
     },
     "output_type": "display_data"
    }
   ],
   "source": [
    "updateName()"
   ]
  },
  {
   "cell_type": "code",
   "execution_count": 156,
   "id": "4d2edc3f",
   "metadata": {},
   "outputs": [],
   "source": [
    "Cat_missing()"
   ]
  },
  {
   "cell_type": "code",
   "execution_count": 157,
   "id": "cf5e2132",
   "metadata": {},
   "outputs": [
    {
     "name": "stdout",
     "output_type": "stream",
     "text": [
      "['Rec' 'ALQ' 'GLQ' 'Unf' 'BLQ' 'LwQ' 'NA']\n",
      "Labeling Done\n"
     ]
    }
   ],
   "source": [
    "ordinalEncoding('GdNA')"
   ]
  },
  {
   "cell_type": "code",
   "execution_count": 158,
   "id": "4377e3c9",
   "metadata": {},
   "outputs": [
    {
     "name": "stdout",
     "output_type": "stream",
     "text": [
      "---------[[[BsmtFinType2]]]--------\n",
      "count     1417\n",
      "unique       6\n",
      "top        Unf\n",
      "freq      1237\n",
      "Name: BsmtFinType2, dtype: object\n",
      "\n",
      "-------------\n",
      "[MISSING VALUES]\n",
      "2.88%\n",
      "\n",
      "-------------\n",
      "[FREQUENCIES]\n",
      "Unf    1237\n",
      "Rec      51\n",
      "LwQ      41\n",
      "BLQ      35\n",
      "ALQ      33\n",
      "GLQ      20\n",
      "Name: BsmtFinType2, dtype: int64\n"
     ]
    },
    {
     "data": {
      "image/png": "[encoded data removed]",
      "text/plain": [
       "<Figure size 432x288 with 1 Axes>"
      ]
     },
     "metadata": {
      "needs_background": "light"
     },
     "output_type": "display_data"
    }
   ],
   "source": [
    "updateName()"
   ]
  },
  {
   "cell_type": "code",
   "execution_count": 159,
   "id": "20dcec5f",
   "metadata": {},
   "outputs": [],
   "source": [
    "Cat_missing()"
   ]
  },
  {
   "cell_type": "code",
   "execution_count": 160,
   "id": "5d59ee21",
   "metadata": {},
   "outputs": [
    {
     "name": "stdout",
     "output_type": "stream",
     "text": [
      "['LwQ' 'Unf' 'Rec' 'BLQ' 'GLQ' 'ALQ' 'NA']\n",
      "Labeling Done\n"
     ]
    }
   ],
   "source": [
    "ordinalEncoding('GLQNA')"
   ]
  },
  {
   "cell_type": "code",
   "execution_count": 161,
   "id": "5e109b8e",
   "metadata": {},
   "outputs": [
    {
     "name": "stdout",
     "output_type": "stream",
     "text": [
      "---------[[[Heating]]]--------\n",
      "count     1459\n",
      "unique       4\n",
      "top       GasA\n",
      "freq      1446\n",
      "Name: Heating, dtype: object\n",
      "\n",
      "-------------\n",
      "[MISSING VALUES]\n",
      "0.0%\n",
      "\n",
      "-------------\n",
      "[FREQUENCIES]\n",
      "GasA    1446\n",
      "GasW       9\n",
      "Grav       2\n",
      "Wall       2\n",
      "Name: Heating, dtype: int64\n"
     ]
    },
    {
     "data": {
      "image/png": "[encoded data removed]",
      "text/plain": [
       "<Figure size 432x288 with 1 Axes>"
      ]
     },
     "metadata": {
      "needs_background": "light"
     },
     "output_type": "display_data"
    }
   ],
   "source": [
    "updateName()"
   ]
  },
  {
   "cell_type": "code",
   "execution_count": 162,
   "id": "efaf1e9f",
   "metadata": {},
   "outputs": [],
   "source": [
    "Cat_missing()"
   ]
  },
  {
   "cell_type": "code",
   "execution_count": 163,
   "id": "315ef8e7",
   "metadata": {},
   "outputs": [
    {
     "name": "stdout",
     "output_type": "stream",
     "text": [
      "['GasA' 'GasW' 'Grav' 'Wall']\n",
      "Labeling Done\n"
     ]
    }
   ],
   "source": [
    "ordinalEncoding('GLQNA')"
   ]
  },
  {
   "cell_type": "code",
   "execution_count": 164,
   "id": "0c51c786",
   "metadata": {},
   "outputs": [
    {
     "name": "stdout",
     "output_type": "stream",
     "text": [
      "---------[[[HeatingQC]]]--------\n",
      "count     1459\n",
      "unique       5\n",
      "top         Ex\n",
      "freq       752\n",
      "Name: HeatingQC, dtype: object\n",
      "\n",
      "-------------\n",
      "[MISSING VALUES]\n",
      "0.0%\n",
      "\n",
      "-------------\n",
      "[FREQUENCIES]\n",
      "Ex    752\n",
      "TA    429\n",
      "Gd    233\n",
      "Fa     43\n",
      "Po      2\n",
      "Name: HeatingQC, dtype: int64\n"
     ]
    },
    {
     "data": {
      "image/png": "[encoded data removed]",
      "text/plain": [
       "<Figure size 432x288 with 1 Axes>"
      ]
     },
     "metadata": {
      "needs_background": "light"
     },
     "output_type": "display_data"
    }
   ],
   "source": [
    "updateName()"
   ]
  },
  {
   "cell_type": "code",
   "execution_count": 165,
   "id": "876e601e",
   "metadata": {},
   "outputs": [
    {
     "name": "stdout",
     "output_type": "stream",
     "text": [
      "5 columns added!\n"
     ]
    }
   ],
   "source": [
    "nominalEncoding()"
   ]
  },
  {
   "cell_type": "code",
   "execution_count": 166,
   "id": "51ea87fa",
   "metadata": {},
   "outputs": [
    {
     "name": "stdout",
     "output_type": "stream",
     "text": [
      "---------[[[CentralAir]]]--------\n",
      "count     1459\n",
      "unique       2\n",
      "top          Y\n",
      "freq      1358\n",
      "Name: CentralAir, dtype: object\n",
      "\n",
      "-------------\n",
      "[MISSING VALUES]\n",
      "0.0%\n",
      "\n",
      "-------------\n",
      "[FREQUENCIES]\n",
      "Y    1358\n",
      "N     101\n",
      "Name: CentralAir, dtype: int64\n"
     ]
    },
    {
     "data": {
      "image/png": "[encoded data removed]",
      "text/plain": [
       "<Figure size 432x288 with 1 Axes>"
      ]
     },
     "metadata": {
      "needs_background": "light"
     },
     "output_type": "display_data"
    }
   ],
   "source": [
    "updateName()"
   ]
  },
  {
   "cell_type": "code",
   "execution_count": 167,
   "id": "90b437bb",
   "metadata": {},
   "outputs": [
    {
     "name": "stdout",
     "output_type": "stream",
     "text": [
      "['Y' 'N']\n",
      "Labeling Done\n"
     ]
    }
   ],
   "source": [
    "ordinalEncoding('ExNA')"
   ]
  },
  {
   "cell_type": "code",
   "execution_count": 168,
   "id": "fafafbb6",
   "metadata": {},
   "outputs": [
    {
     "name": "stdout",
     "output_type": "stream",
     "text": [
      "---------[[[Electrical]]]--------\n",
      "count      1459\n",
      "unique        4\n",
      "top       SBrkr\n",
      "freq       1337\n",
      "Name: Electrical, dtype: object\n",
      "\n",
      "-------------\n",
      "[MISSING VALUES]\n",
      "0.0%\n",
      "\n",
      "-------------\n",
      "[FREQUENCIES]\n",
      "SBrkr    1337\n",
      "FuseA      94\n",
      "FuseF      23\n",
      "FuseP       5\n",
      "Name: Electrical, dtype: int64\n"
     ]
    },
    {
     "data": {
      "image/png": "[encoded data removed]",
      "text/plain": [
       "<Figure size 432x288 with 1 Axes>"
      ]
     },
     "metadata": {
      "needs_background": "light"
     },
     "output_type": "display_data"
    }
   ],
   "source": [
    "updateName()"
   ]
  },
  {
   "cell_type": "code",
   "execution_count": 169,
   "id": "f8320e92",
   "metadata": {},
   "outputs": [
    {
     "name": "stdout",
     "output_type": "stream",
     "text": [
      "['SBrkr' 'FuseA' 'FuseF' 'FuseP']\n",
      "Labeling Done\n"
     ]
    }
   ],
   "source": [
    "ordinalEncoding('YN')"
   ]
  },
  {
   "cell_type": "code",
   "execution_count": 170,
   "id": "857262fa",
   "metadata": {},
   "outputs": [
    {
     "name": "stdout",
     "output_type": "stream",
     "text": [
      "---------[[[KitchenQual]]]--------\n",
      "count     1458\n",
      "unique       4\n",
      "top         TA\n",
      "freq       757\n",
      "Name: KitchenQual, dtype: object\n",
      "\n",
      "-------------\n",
      "[MISSING VALUES]\n",
      "0.07%\n",
      "\n",
      "-------------\n",
      "[FREQUENCIES]\n",
      "TA    757\n",
      "Gd    565\n",
      "Ex    105\n",
      "Fa     31\n",
      "Name: KitchenQual, dtype: int64\n"
     ]
    },
    {
     "data": {
      "image/png": "[encoded data removed]",
      "text/plain": [
       "<Figure size 432x288 with 1 Axes>"
      ]
     },
     "metadata": {
      "needs_background": "light"
     },
     "output_type": "display_data"
    }
   ],
   "source": [
    "updateName()"
   ]
  },
  {
   "cell_type": "code",
   "execution_count": 171,
   "id": "cd42d16b",
   "metadata": {},
   "outputs": [],
   "source": [
    "Cat_missing('Mix')"
   ]
  },
  {
   "cell_type": "code",
   "execution_count": 172,
   "id": "47f7b23c",
   "metadata": {},
   "outputs": [
    {
     "name": "stdout",
     "output_type": "stream",
     "text": [
      "5 columns added!\n"
     ]
    }
   ],
   "source": [
    "nominalEncoding()"
   ]
  },
  {
   "cell_type": "code",
   "execution_count": 168,
   "id": "153ee54a",
   "metadata": {},
   "outputs": [
    {
     "name": "stdout",
     "output_type": "stream",
     "text": [
      "---------[[[KitchenQual]]]--------\n",
      "count     1460\n",
      "unique       4\n",
      "top         TA\n",
      "freq       735\n",
      "Name: KitchenQual, dtype: object\n",
      "\n",
      "-------------\n",
      "[MISSING VALUES]\n",
      "0.0%\n",
      "\n",
      "-------------\n",
      "[FREQUENCIES]\n",
      "TA    735\n",
      "Gd    586\n",
      "Ex    100\n",
      "Fa     39\n",
      "Name: KitchenQual, dtype: int64\n"
     ]
    },
    {
     "data": {
      "image/png": "[encoded data removed]",
      "text/plain": [
       "<Figure size 432x288 with 1 Axes>"
      ]
     },
     "metadata": {
      "needs_background": "light"
     },
     "output_type": "display_data"
    }
   ],
   "source": [
    "updateName()"
   ]
  },
  {
   "cell_type": "code",
   "execution_count": 169,
   "id": "83e417db",
   "metadata": {},
   "outputs": [
    {
     "name": "stdout",
     "output_type": "stream",
     "text": [
      "['Gd' 'TA' 'Ex' 'Fa']\n",
      "Labeling Done\n"
     ]
    }
   ],
   "source": [
    "ordinalEncoding('ExNA')"
   ]
  },
  {
   "cell_type": "code",
   "execution_count": 170,
   "id": "df483ff7",
   "metadata": {},
   "outputs": [
    {
     "name": "stdout",
     "output_type": "stream",
     "text": [
      "---------[[[Functional]]]--------\n",
      "count     1460\n",
      "unique       7\n",
      "top        Typ\n",
      "freq      1360\n",
      "Name: Functional, dtype: object\n",
      "\n",
      "-------------\n",
      "[MISSING VALUES]\n",
      "0.0%\n",
      "\n",
      "-------------\n",
      "[FREQUENCIES]\n",
      "Typ     1360\n",
      "Min2      34\n",
      "Min1      31\n",
      "Mod       15\n",
      "Maj1      14\n",
      "Maj2       5\n",
      "Sev        1\n",
      "Name: Functional, dtype: int64\n"
     ]
    },
    {
     "data": {
      "image/png": "[encoded data removed]",
      "text/plain": [
       "<Figure size 432x288 with 1 Axes>"
      ]
     },
     "metadata": {
      "needs_background": "light"
     },
     "output_type": "display_data"
    }
   ],
   "source": [
    "updateName()"
   ]
  },
  {
   "cell_type": "code",
   "execution_count": 171,
   "id": "788b6029",
   "metadata": {},
   "outputs": [
    {
     "name": "stdout",
     "output_type": "stream",
     "text": [
      "7 columns added!\n"
     ]
    }
   ],
   "source": [
    "nominalEncoding()"
   ]
  },
  {
   "cell_type": "code",
   "execution_count": 172,
   "id": "e0629674",
   "metadata": {},
   "outputs": [
    {
     "name": "stdout",
     "output_type": "stream",
     "text": [
      "---------[[[FireplaceQu]]]--------\n",
      "count     770\n",
      "unique      5\n",
      "top        Gd\n",
      "freq      380\n",
      "Name: FireplaceQu, dtype: object\n",
      "\n",
      "-------------\n",
      "[MISSING VALUES]\n",
      "47.26%\n",
      "\n",
      "-------------\n",
      "[FREQUENCIES]\n",
      "Gd    380\n",
      "TA    313\n",
      "Fa     33\n",
      "Ex     24\n",
      "Po     20\n",
      "Name: FireplaceQu, dtype: int64\n"
     ]
    },
    {
     "data": {
      "image/png": "[encoded data removed]",
      "text/plain": [
       "<Figure size 432x288 with 1 Axes>"
      ]
     },
     "metadata": {
      "needs_background": "light"
     },
     "output_type": "display_data"
    }
   ],
   "source": [
    "updateName()"
   ]
  },
  {
   "cell_type": "code",
   "execution_count": 173,
   "id": "aaf79a45",
   "metadata": {},
   "outputs": [],
   "source": [
    "Cat_missing()"
   ]
  },
  {
   "cell_type": "code",
   "execution_count": 174,
   "id": "c4c42a1f",
   "metadata": {},
   "outputs": [
    {
     "name": "stdout",
     "output_type": "stream",
     "text": [
      "['NA' 'TA' 'Gd' 'Fa' 'Ex' 'Po']\n",
      "Labeling Done\n"
     ]
    }
   ],
   "source": [
    "ordinalEncoding('ExNA')"
   ]
  },
  {
   "cell_type": "code",
   "execution_count": 175,
   "id": "8f8aa07d",
   "metadata": {},
   "outputs": [
    {
     "name": "stdout",
     "output_type": "stream",
     "text": [
      "---------[[[GarageType]]]--------\n",
      "count       1379\n",
      "unique         6\n",
      "top       Attchd\n",
      "freq         870\n",
      "Name: GarageType, dtype: object\n",
      "\n",
      "-------------\n",
      "[MISSING VALUES]\n",
      "5.55%\n",
      "\n",
      "-------------\n",
      "[FREQUENCIES]\n",
      "Attchd     870\n",
      "Detchd     387\n",
      "BuiltIn     88\n",
      "Basment     19\n",
      "CarPort      9\n",
      "2Types       6\n",
      "Name: GarageType, dtype: int64\n"
     ]
    },
    {
     "data": {
      "image/png": "[encoded data removed]",
      "text/plain": [
       "<Figure size 432x288 with 1 Axes>"
      ]
     },
     "metadata": {
      "needs_background": "light"
     },
     "output_type": "display_data"
    }
   ],
   "source": [
    "updateName()"
   ]
  },
  {
   "cell_type": "code",
   "execution_count": 176,
   "id": "c04963a6",
   "metadata": {},
   "outputs": [],
   "source": [
    "Cat_missing()"
   ]
  },
  {
   "cell_type": "code",
   "execution_count": 177,
   "id": "f6e07034",
   "metadata": {},
   "outputs": [
    {
     "name": "stdout",
     "output_type": "stream",
     "text": [
      "7 columns added!\n"
     ]
    }
   ],
   "source": [
    "nominalEncoding()"
   ]
  },
  {
   "cell_type": "code",
   "execution_count": 178,
   "id": "6fd86703",
   "metadata": {},
   "outputs": [
    {
     "name": "stdout",
     "output_type": "stream",
     "text": [
      "---------[[[GarageFinish]]]--------\n",
      "count     1379\n",
      "unique       3\n",
      "top        Unf\n",
      "freq       605\n",
      "Name: GarageFinish, dtype: object\n",
      "\n",
      "-------------\n",
      "[MISSING VALUES]\n",
      "5.55%\n",
      "\n",
      "-------------\n",
      "[FREQUENCIES]\n",
      "Unf    605\n",
      "RFn    422\n",
      "Fin    352\n",
      "Name: GarageFinish, dtype: int64\n"
     ]
    },
    {
     "data": {
      "image/png": "[encoded data removed]",
      "text/plain": [
       "<Figure size 432x288 with 1 Axes>"
      ]
     },
     "metadata": {
      "needs_background": "light"
     },
     "output_type": "display_data"
    }
   ],
   "source": [
    "updateName()"
   ]
  },
  {
   "cell_type": "code",
   "execution_count": 179,
   "id": "b691c3b7",
   "metadata": {},
   "outputs": [],
   "source": [
    "Cat_missing()"
   ]
  },
  {
   "cell_type": "code",
   "execution_count": 180,
   "id": "c95aabfd",
   "metadata": {},
   "outputs": [
    {
     "name": "stdout",
     "output_type": "stream",
     "text": [
      "['RFn' 'Unf' 'Fin' 'NA']\n",
      "Labeling Done\n"
     ]
    }
   ],
   "source": [
    "ordinalEncoding('FinNA')"
   ]
  },
  {
   "cell_type": "code",
   "execution_count": 181,
   "id": "eee8c2c7",
   "metadata": {},
   "outputs": [
    {
     "name": "stdout",
     "output_type": "stream",
     "text": [
      "---------[[[GarageQual]]]--------\n",
      "count     1379\n",
      "unique       5\n",
      "top         TA\n",
      "freq      1311\n",
      "Name: GarageQual, dtype: object\n",
      "\n",
      "-------------\n",
      "[MISSING VALUES]\n",
      "5.55%\n",
      "\n",
      "-------------\n",
      "[FREQUENCIES]\n",
      "TA    1311\n",
      "Fa      48\n",
      "Gd      14\n",
      "Ex       3\n",
      "Po       3\n",
      "Name: GarageQual, dtype: int64\n"
     ]
    },
    {
     "data": {
      "image/png": "[encoded data removed]",
      "text/plain": [
       "<Figure size 432x288 with 1 Axes>"
      ]
     },
     "metadata": {
      "needs_background": "light"
     },
     "output_type": "display_data"
    }
   ],
   "source": [
    "updateName()"
   ]
  },
  {
   "cell_type": "code",
   "execution_count": 182,
   "id": "3916ac5b",
   "metadata": {},
   "outputs": [],
   "source": [
    "Cat_missing()"
   ]
  },
  {
   "cell_type": "code",
   "execution_count": 183,
   "id": "efc4b9ae",
   "metadata": {},
   "outputs": [
    {
     "name": "stdout",
     "output_type": "stream",
     "text": [
      "['TA' 'Fa' 'Gd' 'NA' 'Ex' 'Po']\n",
      "Labeling Done\n"
     ]
    }
   ],
   "source": [
    "ordinalEncoding('ExNA')"
   ]
  },
  {
   "cell_type": "code",
   "execution_count": 184,
   "id": "62d6c953",
   "metadata": {},
   "outputs": [
    {
     "name": "stdout",
     "output_type": "stream",
     "text": [
      "---------[[[GarageCond]]]--------\n",
      "count     1379\n",
      "unique       5\n",
      "top         TA\n",
      "freq      1326\n",
      "Name: GarageCond, dtype: object\n",
      "\n",
      "-------------\n",
      "[MISSING VALUES]\n",
      "5.55%\n",
      "\n",
      "-------------\n",
      "[FREQUENCIES]\n",
      "TA    1326\n",
      "Fa      35\n",
      "Gd       9\n",
      "Po       7\n",
      "Ex       2\n",
      "Name: GarageCond, dtype: int64\n"
     ]
    },
    {
     "data": {
      "image/png": "[encoded data removed]",
      "text/plain": [
       "<Figure size 432x288 with 1 Axes>"
      ]
     },
     "metadata": {
      "needs_background": "light"
     },
     "output_type": "display_data"
    }
   ],
   "source": [
    "updateName()"
   ]
  },
  {
   "cell_type": "code",
   "execution_count": 185,
   "id": "7745110d",
   "metadata": {},
   "outputs": [],
   "source": [
    "Cat_missing()"
   ]
  },
  {
   "cell_type": "code",
   "execution_count": 186,
   "id": "f95f31bb",
   "metadata": {},
   "outputs": [
    {
     "name": "stdout",
     "output_type": "stream",
     "text": [
      "['TA' 'Fa' 'NA' 'Gd' 'Po' 'Ex']\n",
      "Labeling Done\n"
     ]
    }
   ],
   "source": [
    "ordinalEncoding('ExNA')"
   ]
  },
  {
   "cell_type": "code",
   "execution_count": 187,
   "id": "feef35ca",
   "metadata": {},
   "outputs": [
    {
     "name": "stdout",
     "output_type": "stream",
     "text": [
      "---------[[[PavedDrive]]]--------\n",
      "count     1460\n",
      "unique       3\n",
      "top          Y\n",
      "freq      1340\n",
      "Name: PavedDrive, dtype: object\n",
      "\n",
      "-------------\n",
      "[MISSING VALUES]\n",
      "0.0%\n",
      "\n",
      "-------------\n",
      "[FREQUENCIES]\n",
      "Y    1340\n",
      "N      90\n",
      "P      30\n",
      "Name: PavedDrive, dtype: int64\n"
     ]
    },
    {
     "data": {
      "image/png": "[encoded data removed]",
      "text/plain": [
       "<Figure size 432x288 with 1 Axes>"
      ]
     },
     "metadata": {
      "needs_background": "light"
     },
     "output_type": "display_data"
    }
   ],
   "source": [
    "updateName()"
   ]
  },
  {
   "cell_type": "code",
   "execution_count": 188,
   "id": "e03d95c8",
   "metadata": {},
   "outputs": [
    {
     "name": "stdout",
     "output_type": "stream",
     "text": [
      "3 columns added!\n"
     ]
    }
   ],
   "source": [
    "nominalEncoding()"
   ]
  },
  {
   "cell_type": "code",
   "execution_count": 189,
   "id": "df01f7be",
   "metadata": {},
   "outputs": [
    {
     "name": "stdout",
     "output_type": "stream",
     "text": [
      "---------[[[PoolQC]]]--------\n",
      "count      7\n",
      "unique     3\n",
      "top       Gd\n",
      "freq       3\n",
      "Name: PoolQC, dtype: object\n",
      "\n",
      "-------------\n",
      "[MISSING VALUES]\n",
      "99.52%\n",
      "\n",
      "-------------\n",
      "[FREQUENCIES]\n",
      "Gd    3\n",
      "Ex    2\n",
      "Fa    2\n",
      "Name: PoolQC, dtype: int64\n"
     ]
    },
    {
     "data": {
      "image/png": "[encoded data removed]",
      "text/plain": [
       "<Figure size 432x288 with 1 Axes>"
      ]
     },
     "metadata": {
      "needs_background": "light"
     },
     "output_type": "display_data"
    }
   ],
   "source": [
    "updateName()"
   ]
  },
  {
   "cell_type": "code",
   "execution_count": 190,
   "id": "523115ba",
   "metadata": {},
   "outputs": [],
   "source": [
    "Cat_missing()"
   ]
  },
  {
   "cell_type": "code",
   "execution_count": 191,
   "id": "502b4f08",
   "metadata": {},
   "outputs": [
    {
     "name": "stdout",
     "output_type": "stream",
     "text": [
      "['NA' 'Ex' 'Fa' 'Gd']\n",
      "Labeling Done\n"
     ]
    }
   ],
   "source": [
    "ordinalEncoding('ExNA')"
   ]
  },
  {
   "cell_type": "code",
   "execution_count": 192,
   "id": "74c33be2",
   "metadata": {},
   "outputs": [
    {
     "name": "stdout",
     "output_type": "stream",
     "text": [
      "---------[[[Fence]]]--------\n",
      "count       281\n",
      "unique        4\n",
      "top       MnPrv\n",
      "freq        157\n",
      "Name: Fence, dtype: object\n",
      "\n",
      "-------------\n",
      "[MISSING VALUES]\n",
      "80.75%\n",
      "\n",
      "-------------\n",
      "[FREQUENCIES]\n",
      "MnPrv    157\n",
      "GdPrv     59\n",
      "GdWo      54\n",
      "MnWw      11\n",
      "Name: Fence, dtype: int64\n"
     ]
    },
    {
     "data": {
      "image/png": "[encoded data removed]",
      "text/plain": [
       "<Figure size 432x288 with 1 Axes>"
      ]
     },
     "metadata": {
      "needs_background": "light"
     },
     "output_type": "display_data"
    }
   ],
   "source": [
    "updateName()"
   ]
  },
  {
   "cell_type": "code",
   "execution_count": 193,
   "id": "042bcc2f",
   "metadata": {},
   "outputs": [],
   "source": [
    "Cat_missing()"
   ]
  },
  {
   "cell_type": "code",
   "execution_count": 194,
   "id": "fa1a9c96",
   "metadata": {},
   "outputs": [
    {
     "name": "stdout",
     "output_type": "stream",
     "text": [
      "5 columns added!\n"
     ]
    }
   ],
   "source": [
    "nominalEncoding()"
   ]
  },
  {
   "cell_type": "code",
   "execution_count": 195,
   "id": "621b8dec",
   "metadata": {},
   "outputs": [
    {
     "name": "stdout",
     "output_type": "stream",
     "text": [
      "---------[[[MiscFeature]]]--------\n",
      "count       54\n",
      "unique       4\n",
      "top       Shed\n",
      "freq        49\n",
      "Name: MiscFeature, dtype: object\n",
      "\n",
      "-------------\n",
      "[MISSING VALUES]\n",
      "96.3%\n",
      "\n",
      "-------------\n",
      "[FREQUENCIES]\n",
      "Shed    49\n",
      "Gar2     2\n",
      "Othr     2\n",
      "TenC     1\n",
      "Name: MiscFeature, dtype: int64\n"
     ]
    },
    {
     "data": {
      "image/png": "[encoded data removed]",
      "text/plain": [
       "<Figure size 432x288 with 1 Axes>"
      ]
     },
     "metadata": {
      "needs_background": "light"
     },
     "output_type": "display_data"
    }
   ],
   "source": [
    "updateName()"
   ]
  },
  {
   "cell_type": "code",
   "execution_count": 196,
   "id": "ee7a475b",
   "metadata": {},
   "outputs": [],
   "source": [
    "Cat_missing()"
   ]
  },
  {
   "cell_type": "code",
   "execution_count": 197,
   "id": "a28c463a",
   "metadata": {},
   "outputs": [
    {
     "name": "stdout",
     "output_type": "stream",
     "text": [
      "5 columns added!\n"
     ]
    }
   ],
   "source": [
    "nominalEncoding()"
   ]
  },
  {
   "cell_type": "code",
   "execution_count": 198,
   "id": "07866511",
   "metadata": {},
   "outputs": [
    {
     "name": "stdout",
     "output_type": "stream",
     "text": [
      "---------[[[SaleType]]]--------\n",
      "count     1460\n",
      "unique       9\n",
      "top         WD\n",
      "freq      1267\n",
      "Name: SaleType, dtype: object\n",
      "\n",
      "-------------\n",
      "[MISSING VALUES]\n",
      "0.0%\n",
      "\n",
      "-------------\n",
      "[FREQUENCIES]\n",
      "WD       1267\n",
      "New       122\n",
      "COD        43\n",
      "ConLD       9\n",
      "ConLI       5\n",
      "ConLw       5\n",
      "CWD         4\n",
      "Oth         3\n",
      "Con         2\n",
      "Name: SaleType, dtype: int64\n"
     ]
    },
    {
     "data": {
      "image/png": "[encoded data removed]",
      "text/plain": [
       "<Figure size 432x288 with 1 Axes>"
      ]
     },
     "metadata": {
      "needs_background": "light"
     },
     "output_type": "display_data"
    }
   ],
   "source": [
    "updateName()"
   ]
  },
  {
   "cell_type": "code",
   "execution_count": 199,
   "id": "179f23b5",
   "metadata": {},
   "outputs": [
    {
     "name": "stdout",
     "output_type": "stream",
     "text": [
      "9 columns added!\n"
     ]
    }
   ],
   "source": [
    "nominalEncoding()"
   ]
  },
  {
   "cell_type": "code",
   "execution_count": 200,
   "id": "a19a3a89",
   "metadata": {},
   "outputs": [
    {
     "name": "stdout",
     "output_type": "stream",
     "text": [
      "---------[[[SaleCondition]]]--------\n",
      "count       1460\n",
      "unique         6\n",
      "top       Normal\n",
      "freq        1198\n",
      "Name: SaleCondition, dtype: object\n",
      "\n",
      "-------------\n",
      "[MISSING VALUES]\n",
      "0.0%\n",
      "\n",
      "-------------\n",
      "[FREQUENCIES]\n",
      "Normal     1198\n",
      "Partial     125\n",
      "Abnorml     101\n",
      "Family       20\n",
      "Alloca       12\n",
      "AdjLand       4\n",
      "Name: SaleCondition, dtype: int64\n"
     ]
    },
    {
     "data": {
      "image/png": "[encoded data removed]",
      "text/plain": [
       "<Figure size 432x288 with 1 Axes>"
      ]
     },
     "metadata": {
      "needs_background": "light"
     },
     "output_type": "display_data"
    }
   ],
   "source": [
    "updateName()"
   ]
  },
  {
   "cell_type": "code",
   "execution_count": 201,
   "id": "e7e458cc",
   "metadata": {},
   "outputs": [
    {
     "name": "stdout",
     "output_type": "stream",
     "text": [
      "6 columns added!\n"
     ]
    }
   ],
   "source": [
    "nominalEncoding()"
   ]
  },
  {
   "cell_type": "markdown",
   "id": "6c06f105",
   "metadata": {},
   "source": [
    "Done with all columns"
   ]
  },
  {
   "cell_type": "code",
   "execution_count": 202,
   "id": "c9c0a0f3",
   "metadata": {},
   "outputs": [
    {
     "data": {
      "text/plain": [
       "{'LotShape': {'Reg': 3, 'IR1': 2, 'IR2': 1, 'IR3': 0},\n",
       " 'LandContour': {'Lvl': 3, 'Bnk': 2, 'HLS': 1, 'Low': 0},\n",
       " 'LandSlope': {'Gtl': 2, 'Mod': 1, 'Sev': 0},\n",
       " 'ExterQual': {'Ex': 5, 'Gd': 4, 'TA': 3, 'Fa': 2, 'Po': 1, 'NA': 0},\n",
       " 'ExterCond': {'Ex': 5, 'Gd': 4, 'TA': 3, 'Fa': 2, 'Po': 1, 'NA': 0},\n",
       " 'BsmtQual': {'Ex': 5, 'Gd': 4, 'TA': 3, 'Fa': 2, 'Po': 1, 'NA': 0},\n",
       " 'BsmtCond': {'Ex': 5, 'Gd': 4, 'TA': 3, 'Fa': 2, 'Po': 1, 'NA': 0},\n",
       " 'BsmtExposure': {'Gd': 4, 'Av': 3, 'Mn': 2, 'No': 1, 'NA': 0},\n",
       " 'BsmtFinType1': {'GLQ': 6,\n",
       "  'ALQ': 5,\n",
       "  'BLQ': 4,\n",
       "  'Rec': 3,\n",
       "  'LwQ': 2,\n",
       "  'Unf': 1,\n",
       "  'NA': 0},\n",
       " 'BsmtFinType2': {'GLQ': 6,\n",
       "  'ALQ': 5,\n",
       "  'BLQ': 4,\n",
       "  'Rec': 3,\n",
       "  'LwQ': 2,\n",
       "  'Unf': 1,\n",
       "  'NA': 0},\n",
       " 'HeatingQC': {'Ex': 5, 'Gd': 4, 'TA': 3, 'Fa': 2, 'Po': 1, 'NA': 0},\n",
       " 'CentralAir': {'Y': 1, 'N': 0},\n",
       " 'KitchenQual': {'Ex': 5, 'Gd': 4, 'TA': 3, 'Fa': 2, 'Po': 1, 'NA': 0},\n",
       " 'FireplaceQu': {'Ex': 5, 'Gd': 4, 'TA': 3, 'Fa': 2, 'Po': 1, 'NA': 0},\n",
       " 'GarageFinish': {'Fin': 3, 'RFn': 2, 'Unf': 1, 'NA': 0},\n",
       " 'GarageQual': {'Ex': 5, 'Gd': 4, 'TA': 3, 'Fa': 2, 'Po': 1, 'NA': 0},\n",
       " 'GarageCond': {'Ex': 5, 'Gd': 4, 'TA': 3, 'Fa': 2, 'Po': 1, 'NA': 0},\n",
       " 'PoolQC': {'Ex': 5, 'Gd': 4, 'TA': 3, 'Fa': 2, 'Po': 1, 'NA': 0}}"
      ]
     },
     "execution_count": 202,
     "metadata": {},
     "output_type": "execute_result"
    }
   ],
   "source": [
    "master_encode_dic"
   ]
  },
  {
   "cell_type": "code",
   "execution_count": 203,
   "id": "036b5a8e",
   "metadata": {},
   "outputs": [
    {
     "data": {
      "text/html": [
       "<div>\n",
       "<style scoped>\n",
       "    .dataframe tbody tr th:only-of-type {\n",
       "        vertical-align: middle;\n",
       "    }\n",
       "\n",
       "    .dataframe tbody tr th {\n",
       "        vertical-align: top;\n",
       "    }\n",
       "\n",
       "    .dataframe thead th {\n",
       "        text-align: right;\n",
       "    }\n",
       "</style>\n",
       "<table border=\"1\" class=\"dataframe\">\n",
       "  <thead>\n",
       "    <tr style=\"text-align: right;\">\n",
       "      <th></th>\n",
       "      <th>MSSubClass</th>\n",
       "      <th>LotFrontage</th>\n",
       "      <th>LotArea</th>\n",
       "      <th>OverallQual</th>\n",
       "      <th>OverallCond</th>\n",
       "      <th>YearBuilt</th>\n",
       "      <th>YearRemodAdd</th>\n",
       "      <th>MasVnrArea</th>\n",
       "      <th>BsmtFinSF1</th>\n",
       "      <th>BsmtFinSF2</th>\n",
       "      <th>...</th>\n",
       "      <th>SaleType___ConLw</th>\n",
       "      <th>SaleType___New</th>\n",
       "      <th>SaleType___Oth</th>\n",
       "      <th>SaleType___WD</th>\n",
       "      <th>SaleCondition___Abnorml</th>\n",
       "      <th>SaleCondition___AdjLand</th>\n",
       "      <th>SaleCondition___Alloca</th>\n",
       "      <th>SaleCondition___Family</th>\n",
       "      <th>SaleCondition___Normal</th>\n",
       "      <th>SaleCondition___Partial</th>\n",
       "    </tr>\n",
       "  </thead>\n",
       "  <tbody>\n",
       "    <tr>\n",
       "      <th>0</th>\n",
       "      <td>6.0</td>\n",
       "      <td>65.0</td>\n",
       "      <td>8450.0</td>\n",
       "      <td>7</td>\n",
       "      <td>5</td>\n",
       "      <td>2003</td>\n",
       "      <td>2003</td>\n",
       "      <td>1</td>\n",
       "      <td>706.0</td>\n",
       "      <td>0</td>\n",
       "      <td>...</td>\n",
       "      <td>0</td>\n",
       "      <td>0</td>\n",
       "      <td>0</td>\n",
       "      <td>1</td>\n",
       "      <td>0</td>\n",
       "      <td>0</td>\n",
       "      <td>0</td>\n",
       "      <td>0</td>\n",
       "      <td>1</td>\n",
       "      <td>0</td>\n",
       "    </tr>\n",
       "    <tr>\n",
       "      <th>1</th>\n",
       "      <td>1.0</td>\n",
       "      <td>80.0</td>\n",
       "      <td>9600.0</td>\n",
       "      <td>6</td>\n",
       "      <td>8</td>\n",
       "      <td>1976</td>\n",
       "      <td>1976</td>\n",
       "      <td>0</td>\n",
       "      <td>978.0</td>\n",
       "      <td>0</td>\n",
       "      <td>...</td>\n",
       "      <td>0</td>\n",
       "      <td>0</td>\n",
       "      <td>0</td>\n",
       "      <td>1</td>\n",
       "      <td>0</td>\n",
       "      <td>0</td>\n",
       "      <td>0</td>\n",
       "      <td>0</td>\n",
       "      <td>1</td>\n",
       "      <td>0</td>\n",
       "    </tr>\n",
       "    <tr>\n",
       "      <th>2</th>\n",
       "      <td>6.0</td>\n",
       "      <td>68.0</td>\n",
       "      <td>11250.0</td>\n",
       "      <td>7</td>\n",
       "      <td>5</td>\n",
       "      <td>2001</td>\n",
       "      <td>2002</td>\n",
       "      <td>1</td>\n",
       "      <td>486.0</td>\n",
       "      <td>0</td>\n",
       "      <td>...</td>\n",
       "      <td>0</td>\n",
       "      <td>0</td>\n",
       "      <td>0</td>\n",
       "      <td>1</td>\n",
       "      <td>0</td>\n",
       "      <td>0</td>\n",
       "      <td>0</td>\n",
       "      <td>0</td>\n",
       "      <td>1</td>\n",
       "      <td>0</td>\n",
       "    </tr>\n",
       "    <tr>\n",
       "      <th>3</th>\n",
       "      <td>7.0</td>\n",
       "      <td>60.0</td>\n",
       "      <td>9550.0</td>\n",
       "      <td>7</td>\n",
       "      <td>5</td>\n",
       "      <td>1915</td>\n",
       "      <td>1970</td>\n",
       "      <td>0</td>\n",
       "      <td>216.0</td>\n",
       "      <td>0</td>\n",
       "      <td>...</td>\n",
       "      <td>0</td>\n",
       "      <td>0</td>\n",
       "      <td>0</td>\n",
       "      <td>1</td>\n",
       "      <td>1</td>\n",
       "      <td>0</td>\n",
       "      <td>0</td>\n",
       "      <td>0</td>\n",
       "      <td>0</td>\n",
       "      <td>0</td>\n",
       "    </tr>\n",
       "    <tr>\n",
       "      <th>4</th>\n",
       "      <td>6.0</td>\n",
       "      <td>84.0</td>\n",
       "      <td>14260.0</td>\n",
       "      <td>8</td>\n",
       "      <td>5</td>\n",
       "      <td>2000</td>\n",
       "      <td>2000</td>\n",
       "      <td>2</td>\n",
       "      <td>655.0</td>\n",
       "      <td>0</td>\n",
       "      <td>...</td>\n",
       "      <td>0</td>\n",
       "      <td>0</td>\n",
       "      <td>0</td>\n",
       "      <td>1</td>\n",
       "      <td>0</td>\n",
       "      <td>0</td>\n",
       "      <td>0</td>\n",
       "      <td>0</td>\n",
       "      <td>1</td>\n",
       "      <td>0</td>\n",
       "    </tr>\n",
       "    <tr>\n",
       "      <th>...</th>\n",
       "      <td>...</td>\n",
       "      <td>...</td>\n",
       "      <td>...</td>\n",
       "      <td>...</td>\n",
       "      <td>...</td>\n",
       "      <td>...</td>\n",
       "      <td>...</td>\n",
       "      <td>...</td>\n",
       "      <td>...</td>\n",
       "      <td>...</td>\n",
       "      <td>...</td>\n",
       "      <td>...</td>\n",
       "      <td>...</td>\n",
       "      <td>...</td>\n",
       "      <td>...</td>\n",
       "      <td>...</td>\n",
       "      <td>...</td>\n",
       "      <td>...</td>\n",
       "      <td>...</td>\n",
       "      <td>...</td>\n",
       "      <td>...</td>\n",
       "    </tr>\n",
       "    <tr>\n",
       "      <th>1455</th>\n",
       "      <td>6.0</td>\n",
       "      <td>62.0</td>\n",
       "      <td>7917.0</td>\n",
       "      <td>6</td>\n",
       "      <td>5</td>\n",
       "      <td>1999</td>\n",
       "      <td>2000</td>\n",
       "      <td>0</td>\n",
       "      <td>0.0</td>\n",
       "      <td>0</td>\n",
       "      <td>...</td>\n",
       "      <td>0</td>\n",
       "      <td>0</td>\n",
       "      <td>0</td>\n",
       "      <td>1</td>\n",
       "      <td>0</td>\n",
       "      <td>0</td>\n",
       "      <td>0</td>\n",
       "      <td>0</td>\n",
       "      <td>1</td>\n",
       "      <td>0</td>\n",
       "    </tr>\n",
       "    <tr>\n",
       "      <th>1456</th>\n",
       "      <td>1.0</td>\n",
       "      <td>85.0</td>\n",
       "      <td>13175.0</td>\n",
       "      <td>6</td>\n",
       "      <td>6</td>\n",
       "      <td>1978</td>\n",
       "      <td>1988</td>\n",
       "      <td>1</td>\n",
       "      <td>790.0</td>\n",
       "      <td>1</td>\n",
       "      <td>...</td>\n",
       "      <td>0</td>\n",
       "      <td>0</td>\n",
       "      <td>0</td>\n",
       "      <td>1</td>\n",
       "      <td>0</td>\n",
       "      <td>0</td>\n",
       "      <td>0</td>\n",
       "      <td>0</td>\n",
       "      <td>1</td>\n",
       "      <td>0</td>\n",
       "    </tr>\n",
       "    <tr>\n",
       "      <th>1457</th>\n",
       "      <td>7.0</td>\n",
       "      <td>66.0</td>\n",
       "      <td>9042.0</td>\n",
       "      <td>7</td>\n",
       "      <td>9</td>\n",
       "      <td>1941</td>\n",
       "      <td>2006</td>\n",
       "      <td>0</td>\n",
       "      <td>275.0</td>\n",
       "      <td>0</td>\n",
       "      <td>...</td>\n",
       "      <td>0</td>\n",
       "      <td>0</td>\n",
       "      <td>0</td>\n",
       "      <td>1</td>\n",
       "      <td>0</td>\n",
       "      <td>0</td>\n",
       "      <td>0</td>\n",
       "      <td>0</td>\n",
       "      <td>1</td>\n",
       "      <td>0</td>\n",
       "    </tr>\n",
       "    <tr>\n",
       "      <th>1458</th>\n",
       "      <td>1.0</td>\n",
       "      <td>68.0</td>\n",
       "      <td>9717.0</td>\n",
       "      <td>5</td>\n",
       "      <td>6</td>\n",
       "      <td>1950</td>\n",
       "      <td>1996</td>\n",
       "      <td>0</td>\n",
       "      <td>49.0</td>\n",
       "      <td>6</td>\n",
       "      <td>...</td>\n",
       "      <td>0</td>\n",
       "      <td>0</td>\n",
       "      <td>0</td>\n",
       "      <td>1</td>\n",
       "      <td>0</td>\n",
       "      <td>0</td>\n",
       "      <td>0</td>\n",
       "      <td>0</td>\n",
       "      <td>1</td>\n",
       "      <td>0</td>\n",
       "    </tr>\n",
       "    <tr>\n",
       "      <th>1459</th>\n",
       "      <td>1.0</td>\n",
       "      <td>75.0</td>\n",
       "      <td>9937.0</td>\n",
       "      <td>5</td>\n",
       "      <td>6</td>\n",
       "      <td>1965</td>\n",
       "      <td>1965</td>\n",
       "      <td>0</td>\n",
       "      <td>830.0</td>\n",
       "      <td>2</td>\n",
       "      <td>...</td>\n",
       "      <td>0</td>\n",
       "      <td>0</td>\n",
       "      <td>0</td>\n",
       "      <td>1</td>\n",
       "      <td>0</td>\n",
       "      <td>0</td>\n",
       "      <td>0</td>\n",
       "      <td>0</td>\n",
       "      <td>1</td>\n",
       "      <td>0</td>\n",
       "    </tr>\n",
       "  </tbody>\n",
       "</table>\n",
       "<p>1460 rows × 235 columns</p>\n",
       "</div>"
      ],
      "text/plain": [
       "      MSSubClass  LotFrontage  LotArea  OverallQual  OverallCond  YearBuilt  \\\n",
       "0            6.0         65.0   8450.0            7            5       2003   \n",
       "1            1.0         80.0   9600.0            6            8       1976   \n",
       "2            6.0         68.0  11250.0            7            5       2001   \n",
       "3            7.0         60.0   9550.0            7            5       1915   \n",
       "4            6.0         84.0  14260.0            8            5       2000   \n",
       "...          ...          ...      ...          ...          ...        ...   \n",
       "1455         6.0         62.0   7917.0            6            5       1999   \n",
       "1456         1.0         85.0  13175.0            6            6       1978   \n",
       "1457         7.0         66.0   9042.0            7            9       1941   \n",
       "1458         1.0         68.0   9717.0            5            6       1950   \n",
       "1459         1.0         75.0   9937.0            5            6       1965   \n",
       "\n",
       "      YearRemodAdd  MasVnrArea  BsmtFinSF1  BsmtFinSF2  ...  SaleType___ConLw  \\\n",
       "0             2003           1       706.0           0  ...                 0   \n",
       "1             1976           0       978.0           0  ...                 0   \n",
       "2             2002           1       486.0           0  ...                 0   \n",
       "3             1970           0       216.0           0  ...                 0   \n",
       "4             2000           2       655.0           0  ...                 0   \n",
       "...            ...         ...         ...         ...  ...               ...   \n",
       "1455          2000           0         0.0           0  ...                 0   \n",
       "1456          1988           1       790.0           1  ...                 0   \n",
       "1457          2006           0       275.0           0  ...                 0   \n",
       "1458          1996           0        49.0           6  ...                 0   \n",
       "1459          1965           0       830.0           2  ...                 0   \n",
       "\n",
       "      SaleType___New  SaleType___Oth  SaleType___WD  SaleCondition___Abnorml  \\\n",
       "0                  0               0              1                        0   \n",
       "1                  0               0              1                        0   \n",
       "2                  0               0              1                        0   \n",
       "3                  0               0              1                        1   \n",
       "4                  0               0              1                        0   \n",
       "...              ...             ...            ...                      ...   \n",
       "1455               0               0              1                        0   \n",
       "1456               0               0              1                        0   \n",
       "1457               0               0              1                        0   \n",
       "1458               0               0              1                        0   \n",
       "1459               0               0              1                        0   \n",
       "\n",
       "      SaleCondition___AdjLand  SaleCondition___Alloca  SaleCondition___Family  \\\n",
       "0                           0                       0                       0   \n",
       "1                           0                       0                       0   \n",
       "2                           0                       0                       0   \n",
       "3                           0                       0                       0   \n",
       "4                           0                       0                       0   \n",
       "...                       ...                     ...                     ...   \n",
       "1455                        0                       0                       0   \n",
       "1456                        0                       0                       0   \n",
       "1457                        0                       0                       0   \n",
       "1458                        0                       0                       0   \n",
       "1459                        0                       0                       0   \n",
       "\n",
       "      SaleCondition___Normal  SaleCondition___Partial  \n",
       "0                          1                        0  \n",
       "1                          1                        0  \n",
       "2                          1                        0  \n",
       "3                          0                        0  \n",
       "4                          1                        0  \n",
       "...                      ...                      ...  \n",
       "1455                       1                        0  \n",
       "1456                       1                        0  \n",
       "1457                       1                        0  \n",
       "1458                       1                        0  \n",
       "1459                       1                        0  \n",
       "\n",
       "[1460 rows x 235 columns]"
      ]
     },
     "execution_count": 203,
     "metadata": {},
     "output_type": "execute_result"
    }
   ],
   "source": [
    "data"
   ]
  },
  {
   "cell_type": "markdown",
   "id": "bb18adf1",
   "metadata": {},
   "source": [
    "# EDA AND DATA ENGINEERING ENDS HERE!!!! ---------------------------------"
   ]
  },
  {
   "cell_type": "code",
   "execution_count": 204,
   "id": "e7511698",
   "metadata": {},
   "outputs": [],
   "source": [
    "from sklearn.preprocessing import StandardScaler\n",
    "from sklearn.model_selection import train_test_split"
   ]
  },
  {
   "cell_type": "code",
   "execution_count": 205,
   "id": "e92e1540",
   "metadata": {},
   "outputs": [],
   "source": [
    "ss=StandardScaler()\n",
    "data=pd.DataFrame(ss.fit_transform(data.values),index=data.index,columns=data.columns)\n",
    "y=data['SalePrice']\n",
    "data.drop('SalePrice',inplace=True,axis=1)\n",
    "X_train,X_test,y_train,y_test=train_test_split(data,y,test_size=0.25)"
   ]
  },
  {
   "cell_type": "code",
   "execution_count": 206,
   "id": "df4efaf3",
   "metadata": {},
   "outputs": [],
   "source": [
    "from sklearn import metrics"
   ]
  },
  {
   "cell_type": "code",
   "execution_count": 207,
   "id": "83ae8b08",
   "metadata": {},
   "outputs": [],
   "source": [
    "from sklearn.ensemble import RandomForestRegressor"
   ]
  },
  {
   "cell_type": "code",
   "execution_count": 208,
   "id": "4232337c",
   "metadata": {},
   "outputs": [],
   "source": [
    "random_forrest=RandomForestRegressor()"
   ]
  },
  {
   "cell_type": "code",
   "execution_count": 209,
   "id": "0471306a",
   "metadata": {},
   "outputs": [
    {
     "data": {
      "text/plain": [
       "RandomForestRegressor()"
      ]
     },
     "execution_count": 209,
     "metadata": {},
     "output_type": "execute_result"
    }
   ],
   "source": [
    "random_forrest.fit(X_train,y_train)"
   ]
  },
  {
   "cell_type": "code",
   "execution_count": 210,
   "id": "90bbcf14",
   "metadata": {},
   "outputs": [],
   "source": [
    "pred=random_forrest.predict(X_test)"
   ]
  },
  {
   "cell_type": "code",
   "execution_count": 211,
   "id": "c8197f99",
   "metadata": {},
   "outputs": [
    {
     "data": {
      "text/plain": [
       "0.10629697778608029"
      ]
     },
     "execution_count": 211,
     "metadata": {},
     "output_type": "execute_result"
    }
   ],
   "source": [
    "metrics.mean_squared_error(y_test,pred)"
   ]
  },
  {
   "cell_type": "code",
   "execution_count": 212,
   "id": "b995af68",
   "metadata": {},
   "outputs": [],
   "source": [
    "import pickle"
   ]
  },
  {
   "cell_type": "code",
   "execution_count": 213,
   "id": "acf01364",
   "metadata": {},
   "outputs": [],
   "source": [
    "pickle.dump(random_forrest,open('C:/Users/SPANDE32/Untitled Folder/house-prices-advanced-regression-techniques/model.hdf5','wb'))"
   ]
  }
 ],
 "metadata": {
  "kernelspec": {
   "display_name": "Python 3 (ipykernel)",
   "language": "python",
   "name": "python3"
  },
  "language_info": {
   "codemirror_mode": {
    "name": "ipython",
    "version": 3
   },
   "file_extension": ".py",
   "mimetype": "text/x-python",
   "name": "python",
   "nbconvert_exporter": "python",
   "pygments_lexer": "ipython3",
   "version": "3.9.7"
  }
 },
 "nbformat": 4,
 "nbformat_minor": 5
}
